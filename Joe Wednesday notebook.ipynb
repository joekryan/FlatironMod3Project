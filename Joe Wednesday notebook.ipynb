{
 "cells": [
  {
   "cell_type": "code",
   "execution_count": 112,
   "metadata": {},
   "outputs": [],
   "source": [
    "import pandas as pd\n",
    "import matplotlib.pyplot as plt\n",
    "import numpy as np\n",
    "import seaborn as sns\n",
    "import math\n",
    "from scipy import stats\n",
    "import researchpy as rp\n",
    "import statsmodels.api as sm\n",
    "import pylab\n",
    "from sklearn import preprocessing\n",
    "from sklearn.preprocessing import MinMaxScaler\n",
    "from scipy.stats import mannwhitneyu\n",
    "from scipy.stats import kruskal\n",
    "from statsmodels.stats.multicomp import (pairwise_tukeyhsd,\n",
    "                                         MultiComparison)\n",
    "from statsmodels.formula.api import ols\n",
    "\n"
   ]
  },
  {
   "cell_type": "code",
   "execution_count": 2,
   "metadata": {},
   "outputs": [],
   "source": [
    "df = pd.read_csv('Movies2018.csv')"
   ]
  },
  {
   "cell_type": "code",
   "execution_count": 3,
   "metadata": {},
   "outputs": [
    {
     "data": {
      "text/html": [
       "<div>\n",
       "<style scoped>\n",
       "    .dataframe tbody tr th:only-of-type {\n",
       "        vertical-align: middle;\n",
       "    }\n",
       "\n",
       "    .dataframe tbody tr th {\n",
       "        vertical-align: top;\n",
       "    }\n",
       "\n",
       "    .dataframe thead th {\n",
       "        text-align: right;\n",
       "    }\n",
       "</style>\n",
       "<table border=\"1\" class=\"dataframe\">\n",
       "  <thead>\n",
       "    <tr style=\"text-align: right;\">\n",
       "      <th></th>\n",
       "      <th>popularity</th>\n",
       "      <th>vote_count_x</th>\n",
       "      <th>vote_average_x</th>\n",
       "      <th>release_date</th>\n",
       "      <th>original_language_x</th>\n",
       "      <th>genre_ids</th>\n",
       "      <th>belongs_to_collection</th>\n",
       "      <th>budget</th>\n",
       "      <th>production_companies</th>\n",
       "      <th>production_countries</th>\n",
       "      <th>revenue</th>\n",
       "      <th>day_of_week</th>\n",
       "      <th>month</th>\n",
       "      <th>quarter</th>\n",
       "      <th>en_int_lang</th>\n",
       "      <th>collection</th>\n",
       "    </tr>\n",
       "  </thead>\n",
       "  <tbody>\n",
       "    <tr>\n",
       "      <td>0</td>\n",
       "      <td>82.250</td>\n",
       "      <td>16683.0</td>\n",
       "      <td>8.3</td>\n",
       "      <td>2018-04-25</td>\n",
       "      <td>en</td>\n",
       "      <td>Adventure|Action|Science Fiction|</td>\n",
       "      <td>The Avengers Collection</td>\n",
       "      <td>300000000.0</td>\n",
       "      <td>Marvel Studios</td>\n",
       "      <td>US</td>\n",
       "      <td>2.046240e+09</td>\n",
       "      <td>2</td>\n",
       "      <td>4</td>\n",
       "      <td>2</td>\n",
       "      <td>en</td>\n",
       "      <td>Collection</td>\n",
       "    </tr>\n",
       "    <tr>\n",
       "      <td>1</td>\n",
       "      <td>38.895</td>\n",
       "      <td>14192.0</td>\n",
       "      <td>7.4</td>\n",
       "      <td>2018-02-13</td>\n",
       "      <td>en</td>\n",
       "      <td>Adventure|Fantasy|Action|Science Fiction|</td>\n",
       "      <td>Black Panther Collection</td>\n",
       "      <td>200000000.0</td>\n",
       "      <td>Marvel Studios</td>\n",
       "      <td>US</td>\n",
       "      <td>1.346739e+09</td>\n",
       "      <td>1</td>\n",
       "      <td>2</td>\n",
       "      <td>1</td>\n",
       "      <td>en</td>\n",
       "      <td>Collection</td>\n",
       "    </tr>\n",
       "    <tr>\n",
       "      <td>2</td>\n",
       "      <td>31.957</td>\n",
       "      <td>6878.0</td>\n",
       "      <td>6.5</td>\n",
       "      <td>2018-06-06</td>\n",
       "      <td>en</td>\n",
       "      <td>Adventure|Action|Science Fiction|</td>\n",
       "      <td>Jurassic Park Collection</td>\n",
       "      <td>170000000.0</td>\n",
       "      <td>Amblin Entertainment</td>\n",
       "      <td>US</td>\n",
       "      <td>1.303460e+09</td>\n",
       "      <td>2</td>\n",
       "      <td>6</td>\n",
       "      <td>2</td>\n",
       "      <td>en</td>\n",
       "      <td>Collection</td>\n",
       "    </tr>\n",
       "    <tr>\n",
       "      <td>3</td>\n",
       "      <td>30.431</td>\n",
       "      <td>7607.0</td>\n",
       "      <td>7.5</td>\n",
       "      <td>2018-06-14</td>\n",
       "      <td>en</td>\n",
       "      <td>Adventure|Animation|Action|Family|</td>\n",
       "      <td>The Incredibles Collection</td>\n",
       "      <td>200000000.0</td>\n",
       "      <td>Walt Disney Pictures</td>\n",
       "      <td>US</td>\n",
       "      <td>1.241891e+09</td>\n",
       "      <td>3</td>\n",
       "      <td>6</td>\n",
       "      <td>2</td>\n",
       "      <td>en</td>\n",
       "      <td>Collection</td>\n",
       "    </tr>\n",
       "    <tr>\n",
       "      <td>4</td>\n",
       "      <td>31.991</td>\n",
       "      <td>7849.0</td>\n",
       "      <td>6.8</td>\n",
       "      <td>2018-12-07</td>\n",
       "      <td>en</td>\n",
       "      <td>Adventure|Fantasy|Action|</td>\n",
       "      <td>Aquaman Collection</td>\n",
       "      <td>160000000.0</td>\n",
       "      <td>DC Comics</td>\n",
       "      <td>AU</td>\n",
       "      <td>1.143689e+09</td>\n",
       "      <td>4</td>\n",
       "      <td>12</td>\n",
       "      <td>4</td>\n",
       "      <td>en</td>\n",
       "      <td>Collection</td>\n",
       "    </tr>\n",
       "  </tbody>\n",
       "</table>\n",
       "</div>"
      ],
      "text/plain": [
       "   popularity  vote_count_x  vote_average_x release_date original_language_x  \\\n",
       "0      82.250       16683.0             8.3   2018-04-25                  en   \n",
       "1      38.895       14192.0             7.4   2018-02-13                  en   \n",
       "2      31.957        6878.0             6.5   2018-06-06                  en   \n",
       "3      30.431        7607.0             7.5   2018-06-14                  en   \n",
       "4      31.991        7849.0             6.8   2018-12-07                  en   \n",
       "\n",
       "                                   genre_ids       belongs_to_collection  \\\n",
       "0          Adventure|Action|Science Fiction|     The Avengers Collection   \n",
       "1  Adventure|Fantasy|Action|Science Fiction|    Black Panther Collection   \n",
       "2          Adventure|Action|Science Fiction|    Jurassic Park Collection   \n",
       "3         Adventure|Animation|Action|Family|  The Incredibles Collection   \n",
       "4                  Adventure|Fantasy|Action|          Aquaman Collection   \n",
       "\n",
       "        budget  production_companies production_countries       revenue  \\\n",
       "0  300000000.0        Marvel Studios                   US  2.046240e+09   \n",
       "1  200000000.0        Marvel Studios                   US  1.346739e+09   \n",
       "2  170000000.0  Amblin Entertainment                   US  1.303460e+09   \n",
       "3  200000000.0  Walt Disney Pictures                   US  1.241891e+09   \n",
       "4  160000000.0             DC Comics                   AU  1.143689e+09   \n",
       "\n",
       "   day_of_week  month  quarter en_int_lang  collection  \n",
       "0            2      4        2          en  Collection  \n",
       "1            1      2        1          en  Collection  \n",
       "2            2      6        2          en  Collection  \n",
       "3            3      6        2          en  Collection  \n",
       "4            4     12        4          en  Collection  "
      ]
     },
     "execution_count": 3,
     "metadata": {},
     "output_type": "execute_result"
    }
   ],
   "source": [
    "df.head()"
   ]
  },
  {
   "cell_type": "code",
   "execution_count": 4,
   "metadata": {},
   "outputs": [
    {
     "name": "stdout",
     "output_type": "stream",
     "text": [
      "<class 'pandas.core.frame.DataFrame'>\n",
      "RangeIndex: 10000 entries, 0 to 9999\n",
      "Data columns (total 16 columns):\n",
      "popularity               10000 non-null float64\n",
      "vote_count_x             10000 non-null float64\n",
      "vote_average_x           10000 non-null float64\n",
      "release_date             10000 non-null object\n",
      "original_language_x      10000 non-null object\n",
      "genre_ids                10000 non-null object\n",
      "belongs_to_collection    278 non-null object\n",
      "budget                   9996 non-null float64\n",
      "production_companies     10000 non-null object\n",
      "production_countries     10000 non-null object\n",
      "revenue                  9996 non-null float64\n",
      "day_of_week              10000 non-null int64\n",
      "month                    10000 non-null int64\n",
      "quarter                  10000 non-null int64\n",
      "en_int_lang              10000 non-null object\n",
      "collection               10000 non-null object\n",
      "dtypes: float64(5), int64(3), object(8)\n",
      "memory usage: 1.2+ MB\n"
     ]
    }
   ],
   "source": [
    "df.info()"
   ]
  },
  {
   "cell_type": "code",
   "execution_count": 5,
   "metadata": {},
   "outputs": [
    {
     "data": {
      "text/plain": [
       "(10000, 16)"
      ]
     },
     "execution_count": 5,
     "metadata": {},
     "output_type": "execute_result"
    }
   ],
   "source": [
    "df.shape"
   ]
  },
  {
   "cell_type": "code",
   "execution_count": 6,
   "metadata": {},
   "outputs": [
    {
     "data": {
      "text/plain": [
       "na                                 4767\n",
       "Hallmark Entertainment               40\n",
       "ARTE                                 28\n",
       "Lifetime                             22\n",
       "HBO                                  17\n",
       "                                   ... \n",
       "Saxonia Entertainment                 1\n",
       "INGO Productions                      1\n",
       "Art Films Production                  1\n",
       "Vysakh Udayakrishna Productions       1\n",
       "Plan Secreto                          1\n",
       "Name: production_companies, Length: 4086, dtype: int64"
      ]
     },
     "execution_count": 6,
     "metadata": {},
     "output_type": "execute_result"
    }
   ],
   "source": [
    "df.production_companies.value_counts()"
   ]
  },
  {
   "cell_type": "code",
   "execution_count": 7,
   "metadata": {},
   "outputs": [],
   "source": [
    "df_revenue = df[(df.revenue != 0) & (df.budget != 0)]"
   ]
  },
  {
   "cell_type": "code",
   "execution_count": 8,
   "metadata": {},
   "outputs": [],
   "source": [
    "df_revenue = df_revenue.loc[df.budget.notnull()]"
   ]
  },
  {
   "cell_type": "code",
   "execution_count": 9,
   "metadata": {},
   "outputs": [
    {
     "data": {
      "text/html": [
       "<div>\n",
       "<style scoped>\n",
       "    .dataframe tbody tr th:only-of-type {\n",
       "        vertical-align: middle;\n",
       "    }\n",
       "\n",
       "    .dataframe tbody tr th {\n",
       "        vertical-align: top;\n",
       "    }\n",
       "\n",
       "    .dataframe thead th {\n",
       "        text-align: right;\n",
       "    }\n",
       "</style>\n",
       "<table border=\"1\" class=\"dataframe\">\n",
       "  <thead>\n",
       "    <tr style=\"text-align: right;\">\n",
       "      <th></th>\n",
       "      <th>popularity</th>\n",
       "      <th>vote_count_x</th>\n",
       "      <th>vote_average_x</th>\n",
       "      <th>release_date</th>\n",
       "      <th>original_language_x</th>\n",
       "      <th>genre_ids</th>\n",
       "      <th>belongs_to_collection</th>\n",
       "      <th>budget</th>\n",
       "      <th>production_companies</th>\n",
       "      <th>production_countries</th>\n",
       "      <th>revenue</th>\n",
       "      <th>day_of_week</th>\n",
       "      <th>month</th>\n",
       "      <th>quarter</th>\n",
       "      <th>en_int_lang</th>\n",
       "      <th>collection</th>\n",
       "    </tr>\n",
       "  </thead>\n",
       "  <tbody>\n",
       "    <tr>\n",
       "      <td>0</td>\n",
       "      <td>82.250</td>\n",
       "      <td>16683.0</td>\n",
       "      <td>8.3</td>\n",
       "      <td>2018-04-25</td>\n",
       "      <td>en</td>\n",
       "      <td>Adventure|Action|Science Fiction|</td>\n",
       "      <td>The Avengers Collection</td>\n",
       "      <td>300000000.0</td>\n",
       "      <td>Marvel Studios</td>\n",
       "      <td>US</td>\n",
       "      <td>2.046240e+09</td>\n",
       "      <td>2</td>\n",
       "      <td>4</td>\n",
       "      <td>2</td>\n",
       "      <td>en</td>\n",
       "      <td>Collection</td>\n",
       "    </tr>\n",
       "    <tr>\n",
       "      <td>1</td>\n",
       "      <td>38.895</td>\n",
       "      <td>14192.0</td>\n",
       "      <td>7.4</td>\n",
       "      <td>2018-02-13</td>\n",
       "      <td>en</td>\n",
       "      <td>Adventure|Fantasy|Action|Science Fiction|</td>\n",
       "      <td>Black Panther Collection</td>\n",
       "      <td>200000000.0</td>\n",
       "      <td>Marvel Studios</td>\n",
       "      <td>US</td>\n",
       "      <td>1.346739e+09</td>\n",
       "      <td>1</td>\n",
       "      <td>2</td>\n",
       "      <td>1</td>\n",
       "      <td>en</td>\n",
       "      <td>Collection</td>\n",
       "    </tr>\n",
       "    <tr>\n",
       "      <td>2</td>\n",
       "      <td>31.957</td>\n",
       "      <td>6878.0</td>\n",
       "      <td>6.5</td>\n",
       "      <td>2018-06-06</td>\n",
       "      <td>en</td>\n",
       "      <td>Adventure|Action|Science Fiction|</td>\n",
       "      <td>Jurassic Park Collection</td>\n",
       "      <td>170000000.0</td>\n",
       "      <td>Amblin Entertainment</td>\n",
       "      <td>US</td>\n",
       "      <td>1.303460e+09</td>\n",
       "      <td>2</td>\n",
       "      <td>6</td>\n",
       "      <td>2</td>\n",
       "      <td>en</td>\n",
       "      <td>Collection</td>\n",
       "    </tr>\n",
       "    <tr>\n",
       "      <td>3</td>\n",
       "      <td>30.431</td>\n",
       "      <td>7607.0</td>\n",
       "      <td>7.5</td>\n",
       "      <td>2018-06-14</td>\n",
       "      <td>en</td>\n",
       "      <td>Adventure|Animation|Action|Family|</td>\n",
       "      <td>The Incredibles Collection</td>\n",
       "      <td>200000000.0</td>\n",
       "      <td>Walt Disney Pictures</td>\n",
       "      <td>US</td>\n",
       "      <td>1.241891e+09</td>\n",
       "      <td>3</td>\n",
       "      <td>6</td>\n",
       "      <td>2</td>\n",
       "      <td>en</td>\n",
       "      <td>Collection</td>\n",
       "    </tr>\n",
       "    <tr>\n",
       "      <td>4</td>\n",
       "      <td>31.991</td>\n",
       "      <td>7849.0</td>\n",
       "      <td>6.8</td>\n",
       "      <td>2018-12-07</td>\n",
       "      <td>en</td>\n",
       "      <td>Adventure|Fantasy|Action|</td>\n",
       "      <td>Aquaman Collection</td>\n",
       "      <td>160000000.0</td>\n",
       "      <td>DC Comics</td>\n",
       "      <td>AU</td>\n",
       "      <td>1.143689e+09</td>\n",
       "      <td>4</td>\n",
       "      <td>12</td>\n",
       "      <td>4</td>\n",
       "      <td>en</td>\n",
       "      <td>Collection</td>\n",
       "    </tr>\n",
       "    <tr>\n",
       "      <td>...</td>\n",
       "      <td>...</td>\n",
       "      <td>...</td>\n",
       "      <td>...</td>\n",
       "      <td>...</td>\n",
       "      <td>...</td>\n",
       "      <td>...</td>\n",
       "      <td>...</td>\n",
       "      <td>...</td>\n",
       "      <td>...</td>\n",
       "      <td>...</td>\n",
       "      <td>...</td>\n",
       "      <td>...</td>\n",
       "      <td>...</td>\n",
       "      <td>...</td>\n",
       "      <td>...</td>\n",
       "      <td>...</td>\n",
       "    </tr>\n",
       "    <tr>\n",
       "      <td>400</td>\n",
       "      <td>0.600</td>\n",
       "      <td>0.0</td>\n",
       "      <td>0.0</td>\n",
       "      <td>2018-02-12</td>\n",
       "      <td>en</td>\n",
       "      <td>Adventure|Crime|Documentary|</td>\n",
       "      <td>NaN</td>\n",
       "      <td>5.0</td>\n",
       "      <td>Dale Dudes Productions</td>\n",
       "      <td>US</td>\n",
       "      <td>5.000000e+00</td>\n",
       "      <td>0</td>\n",
       "      <td>2</td>\n",
       "      <td>1</td>\n",
       "      <td>en</td>\n",
       "      <td>Non_Collection</td>\n",
       "    </tr>\n",
       "    <tr>\n",
       "      <td>402</td>\n",
       "      <td>0.651</td>\n",
       "      <td>1.0</td>\n",
       "      <td>7.0</td>\n",
       "      <td>2018-07-19</td>\n",
       "      <td>en</td>\n",
       "      <td>Horror|Comedy|</td>\n",
       "      <td>NaN</td>\n",
       "      <td>69.0</td>\n",
       "      <td>ODDYSS3Y</td>\n",
       "      <td>US</td>\n",
       "      <td>4.000000e+00</td>\n",
       "      <td>3</td>\n",
       "      <td>7</td>\n",
       "      <td>3</td>\n",
       "      <td>en</td>\n",
       "      <td>Non_Collection</td>\n",
       "    </tr>\n",
       "    <tr>\n",
       "      <td>404</td>\n",
       "      <td>0.600</td>\n",
       "      <td>1.0</td>\n",
       "      <td>10.0</td>\n",
       "      <td>2018-05-10</td>\n",
       "      <td>en</td>\n",
       "      <td>na|</td>\n",
       "      <td>NaN</td>\n",
       "      <td>500.0</td>\n",
       "      <td>na</td>\n",
       "      <td>na</td>\n",
       "      <td>2.000000e+00</td>\n",
       "      <td>3</td>\n",
       "      <td>5</td>\n",
       "      <td>2</td>\n",
       "      <td>en</td>\n",
       "      <td>Non_Collection</td>\n",
       "    </tr>\n",
       "    <tr>\n",
       "      <td>405</td>\n",
       "      <td>0.645</td>\n",
       "      <td>1.0</td>\n",
       "      <td>10.0</td>\n",
       "      <td>2018-03-17</td>\n",
       "      <td>en</td>\n",
       "      <td>na|</td>\n",
       "      <td>NaN</td>\n",
       "      <td>14.0</td>\n",
       "      <td>na</td>\n",
       "      <td>na</td>\n",
       "      <td>1.000000e+00</td>\n",
       "      <td>5</td>\n",
       "      <td>3</td>\n",
       "      <td>1</td>\n",
       "      <td>en</td>\n",
       "      <td>Non_Collection</td>\n",
       "    </tr>\n",
       "    <tr>\n",
       "      <td>407</td>\n",
       "      <td>1.014</td>\n",
       "      <td>1.0</td>\n",
       "      <td>7.0</td>\n",
       "      <td>2018-02-08</td>\n",
       "      <td>en</td>\n",
       "      <td>Documentary|</td>\n",
       "      <td>NaN</td>\n",
       "      <td>10.0</td>\n",
       "      <td>na</td>\n",
       "      <td>na</td>\n",
       "      <td>1.000000e+00</td>\n",
       "      <td>3</td>\n",
       "      <td>2</td>\n",
       "      <td>1</td>\n",
       "      <td>en</td>\n",
       "      <td>Non_Collection</td>\n",
       "    </tr>\n",
       "  </tbody>\n",
       "</table>\n",
       "<p>260 rows × 16 columns</p>\n",
       "</div>"
      ],
      "text/plain": [
       "     popularity  vote_count_x  vote_average_x release_date  \\\n",
       "0        82.250       16683.0             8.3   2018-04-25   \n",
       "1        38.895       14192.0             7.4   2018-02-13   \n",
       "2        31.957        6878.0             6.5   2018-06-06   \n",
       "3        30.431        7607.0             7.5   2018-06-14   \n",
       "4        31.991        7849.0             6.8   2018-12-07   \n",
       "..          ...           ...             ...          ...   \n",
       "400       0.600           0.0             0.0   2018-02-12   \n",
       "402       0.651           1.0             7.0   2018-07-19   \n",
       "404       0.600           1.0            10.0   2018-05-10   \n",
       "405       0.645           1.0            10.0   2018-03-17   \n",
       "407       1.014           1.0             7.0   2018-02-08   \n",
       "\n",
       "    original_language_x                                  genre_ids  \\\n",
       "0                    en          Adventure|Action|Science Fiction|   \n",
       "1                    en  Adventure|Fantasy|Action|Science Fiction|   \n",
       "2                    en          Adventure|Action|Science Fiction|   \n",
       "3                    en         Adventure|Animation|Action|Family|   \n",
       "4                    en                  Adventure|Fantasy|Action|   \n",
       "..                  ...                                        ...   \n",
       "400                  en               Adventure|Crime|Documentary|   \n",
       "402                  en                             Horror|Comedy|   \n",
       "404                  en                                        na|   \n",
       "405                  en                                        na|   \n",
       "407                  en                               Documentary|   \n",
       "\n",
       "          belongs_to_collection       budget    production_companies  \\\n",
       "0       The Avengers Collection  300000000.0          Marvel Studios   \n",
       "1      Black Panther Collection  200000000.0          Marvel Studios   \n",
       "2      Jurassic Park Collection  170000000.0    Amblin Entertainment   \n",
       "3    The Incredibles Collection  200000000.0    Walt Disney Pictures   \n",
       "4            Aquaman Collection  160000000.0               DC Comics   \n",
       "..                          ...          ...                     ...   \n",
       "400                         NaN          5.0  Dale Dudes Productions   \n",
       "402                         NaN         69.0                ODDYSS3Y   \n",
       "404                         NaN        500.0                      na   \n",
       "405                         NaN         14.0                      na   \n",
       "407                         NaN         10.0                      na   \n",
       "\n",
       "    production_countries       revenue  day_of_week  month  quarter  \\\n",
       "0                     US  2.046240e+09            2      4        2   \n",
       "1                     US  1.346739e+09            1      2        1   \n",
       "2                     US  1.303460e+09            2      6        2   \n",
       "3                     US  1.241891e+09            3      6        2   \n",
       "4                     AU  1.143689e+09            4     12        4   \n",
       "..                   ...           ...          ...    ...      ...   \n",
       "400                   US  5.000000e+00            0      2        1   \n",
       "402                   US  4.000000e+00            3      7        3   \n",
       "404                   na  2.000000e+00            3      5        2   \n",
       "405                   na  1.000000e+00            5      3        1   \n",
       "407                   na  1.000000e+00            3      2        1   \n",
       "\n",
       "    en_int_lang      collection  \n",
       "0            en      Collection  \n",
       "1            en      Collection  \n",
       "2            en      Collection  \n",
       "3            en      Collection  \n",
       "4            en      Collection  \n",
       "..          ...             ...  \n",
       "400          en  Non_Collection  \n",
       "402          en  Non_Collection  \n",
       "404          en  Non_Collection  \n",
       "405          en  Non_Collection  \n",
       "407          en  Non_Collection  \n",
       "\n",
       "[260 rows x 16 columns]"
      ]
     },
     "execution_count": 9,
     "metadata": {},
     "output_type": "execute_result"
    }
   ],
   "source": [
    "df_revenue"
   ]
  },
  {
   "cell_type": "code",
   "execution_count": 10,
   "metadata": {},
   "outputs": [],
   "source": [
    "df_revenue.reset_index(inplace=True)"
   ]
  },
  {
   "cell_type": "code",
   "execution_count": 11,
   "metadata": {},
   "outputs": [
    {
     "data": {
      "text/html": [
       "<div>\n",
       "<style scoped>\n",
       "    .dataframe tbody tr th:only-of-type {\n",
       "        vertical-align: middle;\n",
       "    }\n",
       "\n",
       "    .dataframe tbody tr th {\n",
       "        vertical-align: top;\n",
       "    }\n",
       "\n",
       "    .dataframe thead th {\n",
       "        text-align: right;\n",
       "    }\n",
       "</style>\n",
       "<table border=\"1\" class=\"dataframe\">\n",
       "  <thead>\n",
       "    <tr style=\"text-align: right;\">\n",
       "      <th></th>\n",
       "      <th>index</th>\n",
       "      <th>popularity</th>\n",
       "      <th>vote_count_x</th>\n",
       "      <th>vote_average_x</th>\n",
       "      <th>release_date</th>\n",
       "      <th>original_language_x</th>\n",
       "      <th>genre_ids</th>\n",
       "      <th>belongs_to_collection</th>\n",
       "      <th>budget</th>\n",
       "      <th>production_companies</th>\n",
       "      <th>production_countries</th>\n",
       "      <th>revenue</th>\n",
       "      <th>day_of_week</th>\n",
       "      <th>month</th>\n",
       "      <th>quarter</th>\n",
       "      <th>en_int_lang</th>\n",
       "      <th>collection</th>\n",
       "    </tr>\n",
       "  </thead>\n",
       "  <tbody>\n",
       "    <tr>\n",
       "      <td>0</td>\n",
       "      <td>0</td>\n",
       "      <td>82.250</td>\n",
       "      <td>16683.0</td>\n",
       "      <td>8.3</td>\n",
       "      <td>2018-04-25</td>\n",
       "      <td>en</td>\n",
       "      <td>Adventure|Action|Science Fiction|</td>\n",
       "      <td>The Avengers Collection</td>\n",
       "      <td>300000000.0</td>\n",
       "      <td>Marvel Studios</td>\n",
       "      <td>US</td>\n",
       "      <td>2.046240e+09</td>\n",
       "      <td>2</td>\n",
       "      <td>4</td>\n",
       "      <td>2</td>\n",
       "      <td>en</td>\n",
       "      <td>Collection</td>\n",
       "    </tr>\n",
       "    <tr>\n",
       "      <td>1</td>\n",
       "      <td>1</td>\n",
       "      <td>38.895</td>\n",
       "      <td>14192.0</td>\n",
       "      <td>7.4</td>\n",
       "      <td>2018-02-13</td>\n",
       "      <td>en</td>\n",
       "      <td>Adventure|Fantasy|Action|Science Fiction|</td>\n",
       "      <td>Black Panther Collection</td>\n",
       "      <td>200000000.0</td>\n",
       "      <td>Marvel Studios</td>\n",
       "      <td>US</td>\n",
       "      <td>1.346739e+09</td>\n",
       "      <td>1</td>\n",
       "      <td>2</td>\n",
       "      <td>1</td>\n",
       "      <td>en</td>\n",
       "      <td>Collection</td>\n",
       "    </tr>\n",
       "    <tr>\n",
       "      <td>2</td>\n",
       "      <td>2</td>\n",
       "      <td>31.957</td>\n",
       "      <td>6878.0</td>\n",
       "      <td>6.5</td>\n",
       "      <td>2018-06-06</td>\n",
       "      <td>en</td>\n",
       "      <td>Adventure|Action|Science Fiction|</td>\n",
       "      <td>Jurassic Park Collection</td>\n",
       "      <td>170000000.0</td>\n",
       "      <td>Amblin Entertainment</td>\n",
       "      <td>US</td>\n",
       "      <td>1.303460e+09</td>\n",
       "      <td>2</td>\n",
       "      <td>6</td>\n",
       "      <td>2</td>\n",
       "      <td>en</td>\n",
       "      <td>Collection</td>\n",
       "    </tr>\n",
       "    <tr>\n",
       "      <td>3</td>\n",
       "      <td>3</td>\n",
       "      <td>30.431</td>\n",
       "      <td>7607.0</td>\n",
       "      <td>7.5</td>\n",
       "      <td>2018-06-14</td>\n",
       "      <td>en</td>\n",
       "      <td>Adventure|Animation|Action|Family|</td>\n",
       "      <td>The Incredibles Collection</td>\n",
       "      <td>200000000.0</td>\n",
       "      <td>Walt Disney Pictures</td>\n",
       "      <td>US</td>\n",
       "      <td>1.241891e+09</td>\n",
       "      <td>3</td>\n",
       "      <td>6</td>\n",
       "      <td>2</td>\n",
       "      <td>en</td>\n",
       "      <td>Collection</td>\n",
       "    </tr>\n",
       "    <tr>\n",
       "      <td>4</td>\n",
       "      <td>4</td>\n",
       "      <td>31.991</td>\n",
       "      <td>7849.0</td>\n",
       "      <td>6.8</td>\n",
       "      <td>2018-12-07</td>\n",
       "      <td>en</td>\n",
       "      <td>Adventure|Fantasy|Action|</td>\n",
       "      <td>Aquaman Collection</td>\n",
       "      <td>160000000.0</td>\n",
       "      <td>DC Comics</td>\n",
       "      <td>AU</td>\n",
       "      <td>1.143689e+09</td>\n",
       "      <td>4</td>\n",
       "      <td>12</td>\n",
       "      <td>4</td>\n",
       "      <td>en</td>\n",
       "      <td>Collection</td>\n",
       "    </tr>\n",
       "    <tr>\n",
       "      <td>...</td>\n",
       "      <td>...</td>\n",
       "      <td>...</td>\n",
       "      <td>...</td>\n",
       "      <td>...</td>\n",
       "      <td>...</td>\n",
       "      <td>...</td>\n",
       "      <td>...</td>\n",
       "      <td>...</td>\n",
       "      <td>...</td>\n",
       "      <td>...</td>\n",
       "      <td>...</td>\n",
       "      <td>...</td>\n",
       "      <td>...</td>\n",
       "      <td>...</td>\n",
       "      <td>...</td>\n",
       "      <td>...</td>\n",
       "      <td>...</td>\n",
       "    </tr>\n",
       "    <tr>\n",
       "      <td>255</td>\n",
       "      <td>400</td>\n",
       "      <td>0.600</td>\n",
       "      <td>0.0</td>\n",
       "      <td>0.0</td>\n",
       "      <td>2018-02-12</td>\n",
       "      <td>en</td>\n",
       "      <td>Adventure|Crime|Documentary|</td>\n",
       "      <td>NaN</td>\n",
       "      <td>5.0</td>\n",
       "      <td>Dale Dudes Productions</td>\n",
       "      <td>US</td>\n",
       "      <td>5.000000e+00</td>\n",
       "      <td>0</td>\n",
       "      <td>2</td>\n",
       "      <td>1</td>\n",
       "      <td>en</td>\n",
       "      <td>Non_Collection</td>\n",
       "    </tr>\n",
       "    <tr>\n",
       "      <td>256</td>\n",
       "      <td>402</td>\n",
       "      <td>0.651</td>\n",
       "      <td>1.0</td>\n",
       "      <td>7.0</td>\n",
       "      <td>2018-07-19</td>\n",
       "      <td>en</td>\n",
       "      <td>Horror|Comedy|</td>\n",
       "      <td>NaN</td>\n",
       "      <td>69.0</td>\n",
       "      <td>ODDYSS3Y</td>\n",
       "      <td>US</td>\n",
       "      <td>4.000000e+00</td>\n",
       "      <td>3</td>\n",
       "      <td>7</td>\n",
       "      <td>3</td>\n",
       "      <td>en</td>\n",
       "      <td>Non_Collection</td>\n",
       "    </tr>\n",
       "    <tr>\n",
       "      <td>257</td>\n",
       "      <td>404</td>\n",
       "      <td>0.600</td>\n",
       "      <td>1.0</td>\n",
       "      <td>10.0</td>\n",
       "      <td>2018-05-10</td>\n",
       "      <td>en</td>\n",
       "      <td>na|</td>\n",
       "      <td>NaN</td>\n",
       "      <td>500.0</td>\n",
       "      <td>na</td>\n",
       "      <td>na</td>\n",
       "      <td>2.000000e+00</td>\n",
       "      <td>3</td>\n",
       "      <td>5</td>\n",
       "      <td>2</td>\n",
       "      <td>en</td>\n",
       "      <td>Non_Collection</td>\n",
       "    </tr>\n",
       "    <tr>\n",
       "      <td>258</td>\n",
       "      <td>405</td>\n",
       "      <td>0.645</td>\n",
       "      <td>1.0</td>\n",
       "      <td>10.0</td>\n",
       "      <td>2018-03-17</td>\n",
       "      <td>en</td>\n",
       "      <td>na|</td>\n",
       "      <td>NaN</td>\n",
       "      <td>14.0</td>\n",
       "      <td>na</td>\n",
       "      <td>na</td>\n",
       "      <td>1.000000e+00</td>\n",
       "      <td>5</td>\n",
       "      <td>3</td>\n",
       "      <td>1</td>\n",
       "      <td>en</td>\n",
       "      <td>Non_Collection</td>\n",
       "    </tr>\n",
       "    <tr>\n",
       "      <td>259</td>\n",
       "      <td>407</td>\n",
       "      <td>1.014</td>\n",
       "      <td>1.0</td>\n",
       "      <td>7.0</td>\n",
       "      <td>2018-02-08</td>\n",
       "      <td>en</td>\n",
       "      <td>Documentary|</td>\n",
       "      <td>NaN</td>\n",
       "      <td>10.0</td>\n",
       "      <td>na</td>\n",
       "      <td>na</td>\n",
       "      <td>1.000000e+00</td>\n",
       "      <td>3</td>\n",
       "      <td>2</td>\n",
       "      <td>1</td>\n",
       "      <td>en</td>\n",
       "      <td>Non_Collection</td>\n",
       "    </tr>\n",
       "  </tbody>\n",
       "</table>\n",
       "<p>260 rows × 17 columns</p>\n",
       "</div>"
      ],
      "text/plain": [
       "     index  popularity  vote_count_x  vote_average_x release_date  \\\n",
       "0        0      82.250       16683.0             8.3   2018-04-25   \n",
       "1        1      38.895       14192.0             7.4   2018-02-13   \n",
       "2        2      31.957        6878.0             6.5   2018-06-06   \n",
       "3        3      30.431        7607.0             7.5   2018-06-14   \n",
       "4        4      31.991        7849.0             6.8   2018-12-07   \n",
       "..     ...         ...           ...             ...          ...   \n",
       "255    400       0.600           0.0             0.0   2018-02-12   \n",
       "256    402       0.651           1.0             7.0   2018-07-19   \n",
       "257    404       0.600           1.0            10.0   2018-05-10   \n",
       "258    405       0.645           1.0            10.0   2018-03-17   \n",
       "259    407       1.014           1.0             7.0   2018-02-08   \n",
       "\n",
       "    original_language_x                                  genre_ids  \\\n",
       "0                    en          Adventure|Action|Science Fiction|   \n",
       "1                    en  Adventure|Fantasy|Action|Science Fiction|   \n",
       "2                    en          Adventure|Action|Science Fiction|   \n",
       "3                    en         Adventure|Animation|Action|Family|   \n",
       "4                    en                  Adventure|Fantasy|Action|   \n",
       "..                  ...                                        ...   \n",
       "255                  en               Adventure|Crime|Documentary|   \n",
       "256                  en                             Horror|Comedy|   \n",
       "257                  en                                        na|   \n",
       "258                  en                                        na|   \n",
       "259                  en                               Documentary|   \n",
       "\n",
       "          belongs_to_collection       budget    production_companies  \\\n",
       "0       The Avengers Collection  300000000.0          Marvel Studios   \n",
       "1      Black Panther Collection  200000000.0          Marvel Studios   \n",
       "2      Jurassic Park Collection  170000000.0    Amblin Entertainment   \n",
       "3    The Incredibles Collection  200000000.0    Walt Disney Pictures   \n",
       "4            Aquaman Collection  160000000.0               DC Comics   \n",
       "..                          ...          ...                     ...   \n",
       "255                         NaN          5.0  Dale Dudes Productions   \n",
       "256                         NaN         69.0                ODDYSS3Y   \n",
       "257                         NaN        500.0                      na   \n",
       "258                         NaN         14.0                      na   \n",
       "259                         NaN         10.0                      na   \n",
       "\n",
       "    production_countries       revenue  day_of_week  month  quarter  \\\n",
       "0                     US  2.046240e+09            2      4        2   \n",
       "1                     US  1.346739e+09            1      2        1   \n",
       "2                     US  1.303460e+09            2      6        2   \n",
       "3                     US  1.241891e+09            3      6        2   \n",
       "4                     AU  1.143689e+09            4     12        4   \n",
       "..                   ...           ...          ...    ...      ...   \n",
       "255                   US  5.000000e+00            0      2        1   \n",
       "256                   US  4.000000e+00            3      7        3   \n",
       "257                   na  2.000000e+00            3      5        2   \n",
       "258                   na  1.000000e+00            5      3        1   \n",
       "259                   na  1.000000e+00            3      2        1   \n",
       "\n",
       "    en_int_lang      collection  \n",
       "0            en      Collection  \n",
       "1            en      Collection  \n",
       "2            en      Collection  \n",
       "3            en      Collection  \n",
       "4            en      Collection  \n",
       "..          ...             ...  \n",
       "255          en  Non_Collection  \n",
       "256          en  Non_Collection  \n",
       "257          en  Non_Collection  \n",
       "258          en  Non_Collection  \n",
       "259          en  Non_Collection  \n",
       "\n",
       "[260 rows x 17 columns]"
      ]
     },
     "execution_count": 11,
     "metadata": {},
     "output_type": "execute_result"
    }
   ],
   "source": [
    "df_revenue"
   ]
  },
  {
   "cell_type": "code",
   "execution_count": 12,
   "metadata": {},
   "outputs": [],
   "source": [
    "df_revenue.drop(columns ='index', inplace=True)"
   ]
  },
  {
   "cell_type": "code",
   "execution_count": 13,
   "metadata": {},
   "outputs": [
    {
     "data": {
      "text/html": [
       "<div>\n",
       "<style scoped>\n",
       "    .dataframe tbody tr th:only-of-type {\n",
       "        vertical-align: middle;\n",
       "    }\n",
       "\n",
       "    .dataframe tbody tr th {\n",
       "        vertical-align: top;\n",
       "    }\n",
       "\n",
       "    .dataframe thead th {\n",
       "        text-align: right;\n",
       "    }\n",
       "</style>\n",
       "<table border=\"1\" class=\"dataframe\">\n",
       "  <thead>\n",
       "    <tr style=\"text-align: right;\">\n",
       "      <th></th>\n",
       "      <th>popularity</th>\n",
       "      <th>vote_count_x</th>\n",
       "      <th>vote_average_x</th>\n",
       "      <th>release_date</th>\n",
       "      <th>original_language_x</th>\n",
       "      <th>genre_ids</th>\n",
       "      <th>belongs_to_collection</th>\n",
       "      <th>budget</th>\n",
       "      <th>production_companies</th>\n",
       "      <th>production_countries</th>\n",
       "      <th>revenue</th>\n",
       "      <th>day_of_week</th>\n",
       "      <th>month</th>\n",
       "      <th>quarter</th>\n",
       "      <th>en_int_lang</th>\n",
       "      <th>collection</th>\n",
       "    </tr>\n",
       "  </thead>\n",
       "  <tbody>\n",
       "    <tr>\n",
       "      <td>0</td>\n",
       "      <td>82.250</td>\n",
       "      <td>16683.0</td>\n",
       "      <td>8.3</td>\n",
       "      <td>2018-04-25</td>\n",
       "      <td>en</td>\n",
       "      <td>Adventure|Action|Science Fiction|</td>\n",
       "      <td>The Avengers Collection</td>\n",
       "      <td>300000000.0</td>\n",
       "      <td>Marvel Studios</td>\n",
       "      <td>US</td>\n",
       "      <td>2.046240e+09</td>\n",
       "      <td>2</td>\n",
       "      <td>4</td>\n",
       "      <td>2</td>\n",
       "      <td>en</td>\n",
       "      <td>Collection</td>\n",
       "    </tr>\n",
       "    <tr>\n",
       "      <td>1</td>\n",
       "      <td>38.895</td>\n",
       "      <td>14192.0</td>\n",
       "      <td>7.4</td>\n",
       "      <td>2018-02-13</td>\n",
       "      <td>en</td>\n",
       "      <td>Adventure|Fantasy|Action|Science Fiction|</td>\n",
       "      <td>Black Panther Collection</td>\n",
       "      <td>200000000.0</td>\n",
       "      <td>Marvel Studios</td>\n",
       "      <td>US</td>\n",
       "      <td>1.346739e+09</td>\n",
       "      <td>1</td>\n",
       "      <td>2</td>\n",
       "      <td>1</td>\n",
       "      <td>en</td>\n",
       "      <td>Collection</td>\n",
       "    </tr>\n",
       "    <tr>\n",
       "      <td>2</td>\n",
       "      <td>31.957</td>\n",
       "      <td>6878.0</td>\n",
       "      <td>6.5</td>\n",
       "      <td>2018-06-06</td>\n",
       "      <td>en</td>\n",
       "      <td>Adventure|Action|Science Fiction|</td>\n",
       "      <td>Jurassic Park Collection</td>\n",
       "      <td>170000000.0</td>\n",
       "      <td>Amblin Entertainment</td>\n",
       "      <td>US</td>\n",
       "      <td>1.303460e+09</td>\n",
       "      <td>2</td>\n",
       "      <td>6</td>\n",
       "      <td>2</td>\n",
       "      <td>en</td>\n",
       "      <td>Collection</td>\n",
       "    </tr>\n",
       "    <tr>\n",
       "      <td>3</td>\n",
       "      <td>30.431</td>\n",
       "      <td>7607.0</td>\n",
       "      <td>7.5</td>\n",
       "      <td>2018-06-14</td>\n",
       "      <td>en</td>\n",
       "      <td>Adventure|Animation|Action|Family|</td>\n",
       "      <td>The Incredibles Collection</td>\n",
       "      <td>200000000.0</td>\n",
       "      <td>Walt Disney Pictures</td>\n",
       "      <td>US</td>\n",
       "      <td>1.241891e+09</td>\n",
       "      <td>3</td>\n",
       "      <td>6</td>\n",
       "      <td>2</td>\n",
       "      <td>en</td>\n",
       "      <td>Collection</td>\n",
       "    </tr>\n",
       "    <tr>\n",
       "      <td>4</td>\n",
       "      <td>31.991</td>\n",
       "      <td>7849.0</td>\n",
       "      <td>6.8</td>\n",
       "      <td>2018-12-07</td>\n",
       "      <td>en</td>\n",
       "      <td>Adventure|Fantasy|Action|</td>\n",
       "      <td>Aquaman Collection</td>\n",
       "      <td>160000000.0</td>\n",
       "      <td>DC Comics</td>\n",
       "      <td>AU</td>\n",
       "      <td>1.143689e+09</td>\n",
       "      <td>4</td>\n",
       "      <td>12</td>\n",
       "      <td>4</td>\n",
       "      <td>en</td>\n",
       "      <td>Collection</td>\n",
       "    </tr>\n",
       "    <tr>\n",
       "      <td>...</td>\n",
       "      <td>...</td>\n",
       "      <td>...</td>\n",
       "      <td>...</td>\n",
       "      <td>...</td>\n",
       "      <td>...</td>\n",
       "      <td>...</td>\n",
       "      <td>...</td>\n",
       "      <td>...</td>\n",
       "      <td>...</td>\n",
       "      <td>...</td>\n",
       "      <td>...</td>\n",
       "      <td>...</td>\n",
       "      <td>...</td>\n",
       "      <td>...</td>\n",
       "      <td>...</td>\n",
       "      <td>...</td>\n",
       "    </tr>\n",
       "    <tr>\n",
       "      <td>255</td>\n",
       "      <td>0.600</td>\n",
       "      <td>0.0</td>\n",
       "      <td>0.0</td>\n",
       "      <td>2018-02-12</td>\n",
       "      <td>en</td>\n",
       "      <td>Adventure|Crime|Documentary|</td>\n",
       "      <td>NaN</td>\n",
       "      <td>5.0</td>\n",
       "      <td>Dale Dudes Productions</td>\n",
       "      <td>US</td>\n",
       "      <td>5.000000e+00</td>\n",
       "      <td>0</td>\n",
       "      <td>2</td>\n",
       "      <td>1</td>\n",
       "      <td>en</td>\n",
       "      <td>Non_Collection</td>\n",
       "    </tr>\n",
       "    <tr>\n",
       "      <td>256</td>\n",
       "      <td>0.651</td>\n",
       "      <td>1.0</td>\n",
       "      <td>7.0</td>\n",
       "      <td>2018-07-19</td>\n",
       "      <td>en</td>\n",
       "      <td>Horror|Comedy|</td>\n",
       "      <td>NaN</td>\n",
       "      <td>69.0</td>\n",
       "      <td>ODDYSS3Y</td>\n",
       "      <td>US</td>\n",
       "      <td>4.000000e+00</td>\n",
       "      <td>3</td>\n",
       "      <td>7</td>\n",
       "      <td>3</td>\n",
       "      <td>en</td>\n",
       "      <td>Non_Collection</td>\n",
       "    </tr>\n",
       "    <tr>\n",
       "      <td>257</td>\n",
       "      <td>0.600</td>\n",
       "      <td>1.0</td>\n",
       "      <td>10.0</td>\n",
       "      <td>2018-05-10</td>\n",
       "      <td>en</td>\n",
       "      <td>na|</td>\n",
       "      <td>NaN</td>\n",
       "      <td>500.0</td>\n",
       "      <td>na</td>\n",
       "      <td>na</td>\n",
       "      <td>2.000000e+00</td>\n",
       "      <td>3</td>\n",
       "      <td>5</td>\n",
       "      <td>2</td>\n",
       "      <td>en</td>\n",
       "      <td>Non_Collection</td>\n",
       "    </tr>\n",
       "    <tr>\n",
       "      <td>258</td>\n",
       "      <td>0.645</td>\n",
       "      <td>1.0</td>\n",
       "      <td>10.0</td>\n",
       "      <td>2018-03-17</td>\n",
       "      <td>en</td>\n",
       "      <td>na|</td>\n",
       "      <td>NaN</td>\n",
       "      <td>14.0</td>\n",
       "      <td>na</td>\n",
       "      <td>na</td>\n",
       "      <td>1.000000e+00</td>\n",
       "      <td>5</td>\n",
       "      <td>3</td>\n",
       "      <td>1</td>\n",
       "      <td>en</td>\n",
       "      <td>Non_Collection</td>\n",
       "    </tr>\n",
       "    <tr>\n",
       "      <td>259</td>\n",
       "      <td>1.014</td>\n",
       "      <td>1.0</td>\n",
       "      <td>7.0</td>\n",
       "      <td>2018-02-08</td>\n",
       "      <td>en</td>\n",
       "      <td>Documentary|</td>\n",
       "      <td>NaN</td>\n",
       "      <td>10.0</td>\n",
       "      <td>na</td>\n",
       "      <td>na</td>\n",
       "      <td>1.000000e+00</td>\n",
       "      <td>3</td>\n",
       "      <td>2</td>\n",
       "      <td>1</td>\n",
       "      <td>en</td>\n",
       "      <td>Non_Collection</td>\n",
       "    </tr>\n",
       "  </tbody>\n",
       "</table>\n",
       "<p>260 rows × 16 columns</p>\n",
       "</div>"
      ],
      "text/plain": [
       "     popularity  vote_count_x  vote_average_x release_date  \\\n",
       "0        82.250       16683.0             8.3   2018-04-25   \n",
       "1        38.895       14192.0             7.4   2018-02-13   \n",
       "2        31.957        6878.0             6.5   2018-06-06   \n",
       "3        30.431        7607.0             7.5   2018-06-14   \n",
       "4        31.991        7849.0             6.8   2018-12-07   \n",
       "..          ...           ...             ...          ...   \n",
       "255       0.600           0.0             0.0   2018-02-12   \n",
       "256       0.651           1.0             7.0   2018-07-19   \n",
       "257       0.600           1.0            10.0   2018-05-10   \n",
       "258       0.645           1.0            10.0   2018-03-17   \n",
       "259       1.014           1.0             7.0   2018-02-08   \n",
       "\n",
       "    original_language_x                                  genre_ids  \\\n",
       "0                    en          Adventure|Action|Science Fiction|   \n",
       "1                    en  Adventure|Fantasy|Action|Science Fiction|   \n",
       "2                    en          Adventure|Action|Science Fiction|   \n",
       "3                    en         Adventure|Animation|Action|Family|   \n",
       "4                    en                  Adventure|Fantasy|Action|   \n",
       "..                  ...                                        ...   \n",
       "255                  en               Adventure|Crime|Documentary|   \n",
       "256                  en                             Horror|Comedy|   \n",
       "257                  en                                        na|   \n",
       "258                  en                                        na|   \n",
       "259                  en                               Documentary|   \n",
       "\n",
       "          belongs_to_collection       budget    production_companies  \\\n",
       "0       The Avengers Collection  300000000.0          Marvel Studios   \n",
       "1      Black Panther Collection  200000000.0          Marvel Studios   \n",
       "2      Jurassic Park Collection  170000000.0    Amblin Entertainment   \n",
       "3    The Incredibles Collection  200000000.0    Walt Disney Pictures   \n",
       "4            Aquaman Collection  160000000.0               DC Comics   \n",
       "..                          ...          ...                     ...   \n",
       "255                         NaN          5.0  Dale Dudes Productions   \n",
       "256                         NaN         69.0                ODDYSS3Y   \n",
       "257                         NaN        500.0                      na   \n",
       "258                         NaN         14.0                      na   \n",
       "259                         NaN         10.0                      na   \n",
       "\n",
       "    production_countries       revenue  day_of_week  month  quarter  \\\n",
       "0                     US  2.046240e+09            2      4        2   \n",
       "1                     US  1.346739e+09            1      2        1   \n",
       "2                     US  1.303460e+09            2      6        2   \n",
       "3                     US  1.241891e+09            3      6        2   \n",
       "4                     AU  1.143689e+09            4     12        4   \n",
       "..                   ...           ...          ...    ...      ...   \n",
       "255                   US  5.000000e+00            0      2        1   \n",
       "256                   US  4.000000e+00            3      7        3   \n",
       "257                   na  2.000000e+00            3      5        2   \n",
       "258                   na  1.000000e+00            5      3        1   \n",
       "259                   na  1.000000e+00            3      2        1   \n",
       "\n",
       "    en_int_lang      collection  \n",
       "0            en      Collection  \n",
       "1            en      Collection  \n",
       "2            en      Collection  \n",
       "3            en      Collection  \n",
       "4            en      Collection  \n",
       "..          ...             ...  \n",
       "255          en  Non_Collection  \n",
       "256          en  Non_Collection  \n",
       "257          en  Non_Collection  \n",
       "258          en  Non_Collection  \n",
       "259          en  Non_Collection  \n",
       "\n",
       "[260 rows x 16 columns]"
      ]
     },
     "execution_count": 13,
     "metadata": {},
     "output_type": "execute_result"
    }
   ],
   "source": [
    "df_revenue"
   ]
  },
  {
   "cell_type": "code",
   "execution_count": 14,
   "metadata": {},
   "outputs": [],
   "source": [
    "df_revenue['profitable'] = df_revenue.revenue - df_revenue.budget"
   ]
  },
  {
   "cell_type": "code",
   "execution_count": 15,
   "metadata": {},
   "outputs": [],
   "source": [
    "df_revenue.loc[df_revenue.profitable > 0, 'profitable'] = 1\n",
    "df_revenue.loc[df_revenue.profitable <= 0, 'profitable'] = 0"
   ]
  },
  {
   "cell_type": "code",
   "execution_count": 16,
   "metadata": {},
   "outputs": [
    {
     "data": {
      "text/html": [
       "<div>\n",
       "<style scoped>\n",
       "    .dataframe tbody tr th:only-of-type {\n",
       "        vertical-align: middle;\n",
       "    }\n",
       "\n",
       "    .dataframe tbody tr th {\n",
       "        vertical-align: top;\n",
       "    }\n",
       "\n",
       "    .dataframe thead th {\n",
       "        text-align: right;\n",
       "    }\n",
       "</style>\n",
       "<table border=\"1\" class=\"dataframe\">\n",
       "  <thead>\n",
       "    <tr style=\"text-align: right;\">\n",
       "      <th></th>\n",
       "      <th>popularity</th>\n",
       "      <th>vote_count_x</th>\n",
       "      <th>vote_average_x</th>\n",
       "      <th>release_date</th>\n",
       "      <th>original_language_x</th>\n",
       "      <th>genre_ids</th>\n",
       "      <th>belongs_to_collection</th>\n",
       "      <th>budget</th>\n",
       "      <th>production_companies</th>\n",
       "      <th>production_countries</th>\n",
       "      <th>revenue</th>\n",
       "      <th>day_of_week</th>\n",
       "      <th>month</th>\n",
       "      <th>quarter</th>\n",
       "      <th>en_int_lang</th>\n",
       "      <th>collection</th>\n",
       "      <th>profitable</th>\n",
       "    </tr>\n",
       "  </thead>\n",
       "  <tbody>\n",
       "    <tr>\n",
       "      <td>0</td>\n",
       "      <td>82.250</td>\n",
       "      <td>16683.0</td>\n",
       "      <td>8.3</td>\n",
       "      <td>2018-04-25</td>\n",
       "      <td>en</td>\n",
       "      <td>Adventure|Action|Science Fiction|</td>\n",
       "      <td>The Avengers Collection</td>\n",
       "      <td>300000000.0</td>\n",
       "      <td>Marvel Studios</td>\n",
       "      <td>US</td>\n",
       "      <td>2.046240e+09</td>\n",
       "      <td>2</td>\n",
       "      <td>4</td>\n",
       "      <td>2</td>\n",
       "      <td>en</td>\n",
       "      <td>Collection</td>\n",
       "      <td>1.0</td>\n",
       "    </tr>\n",
       "    <tr>\n",
       "      <td>1</td>\n",
       "      <td>38.895</td>\n",
       "      <td>14192.0</td>\n",
       "      <td>7.4</td>\n",
       "      <td>2018-02-13</td>\n",
       "      <td>en</td>\n",
       "      <td>Adventure|Fantasy|Action|Science Fiction|</td>\n",
       "      <td>Black Panther Collection</td>\n",
       "      <td>200000000.0</td>\n",
       "      <td>Marvel Studios</td>\n",
       "      <td>US</td>\n",
       "      <td>1.346739e+09</td>\n",
       "      <td>1</td>\n",
       "      <td>2</td>\n",
       "      <td>1</td>\n",
       "      <td>en</td>\n",
       "      <td>Collection</td>\n",
       "      <td>1.0</td>\n",
       "    </tr>\n",
       "    <tr>\n",
       "      <td>2</td>\n",
       "      <td>31.957</td>\n",
       "      <td>6878.0</td>\n",
       "      <td>6.5</td>\n",
       "      <td>2018-06-06</td>\n",
       "      <td>en</td>\n",
       "      <td>Adventure|Action|Science Fiction|</td>\n",
       "      <td>Jurassic Park Collection</td>\n",
       "      <td>170000000.0</td>\n",
       "      <td>Amblin Entertainment</td>\n",
       "      <td>US</td>\n",
       "      <td>1.303460e+09</td>\n",
       "      <td>2</td>\n",
       "      <td>6</td>\n",
       "      <td>2</td>\n",
       "      <td>en</td>\n",
       "      <td>Collection</td>\n",
       "      <td>1.0</td>\n",
       "    </tr>\n",
       "    <tr>\n",
       "      <td>3</td>\n",
       "      <td>30.431</td>\n",
       "      <td>7607.0</td>\n",
       "      <td>7.5</td>\n",
       "      <td>2018-06-14</td>\n",
       "      <td>en</td>\n",
       "      <td>Adventure|Animation|Action|Family|</td>\n",
       "      <td>The Incredibles Collection</td>\n",
       "      <td>200000000.0</td>\n",
       "      <td>Walt Disney Pictures</td>\n",
       "      <td>US</td>\n",
       "      <td>1.241891e+09</td>\n",
       "      <td>3</td>\n",
       "      <td>6</td>\n",
       "      <td>2</td>\n",
       "      <td>en</td>\n",
       "      <td>Collection</td>\n",
       "      <td>1.0</td>\n",
       "    </tr>\n",
       "    <tr>\n",
       "      <td>4</td>\n",
       "      <td>31.991</td>\n",
       "      <td>7849.0</td>\n",
       "      <td>6.8</td>\n",
       "      <td>2018-12-07</td>\n",
       "      <td>en</td>\n",
       "      <td>Adventure|Fantasy|Action|</td>\n",
       "      <td>Aquaman Collection</td>\n",
       "      <td>160000000.0</td>\n",
       "      <td>DC Comics</td>\n",
       "      <td>AU</td>\n",
       "      <td>1.143689e+09</td>\n",
       "      <td>4</td>\n",
       "      <td>12</td>\n",
       "      <td>4</td>\n",
       "      <td>en</td>\n",
       "      <td>Collection</td>\n",
       "      <td>1.0</td>\n",
       "    </tr>\n",
       "    <tr>\n",
       "      <td>...</td>\n",
       "      <td>...</td>\n",
       "      <td>...</td>\n",
       "      <td>...</td>\n",
       "      <td>...</td>\n",
       "      <td>...</td>\n",
       "      <td>...</td>\n",
       "      <td>...</td>\n",
       "      <td>...</td>\n",
       "      <td>...</td>\n",
       "      <td>...</td>\n",
       "      <td>...</td>\n",
       "      <td>...</td>\n",
       "      <td>...</td>\n",
       "      <td>...</td>\n",
       "      <td>...</td>\n",
       "      <td>...</td>\n",
       "      <td>...</td>\n",
       "    </tr>\n",
       "    <tr>\n",
       "      <td>255</td>\n",
       "      <td>0.600</td>\n",
       "      <td>0.0</td>\n",
       "      <td>0.0</td>\n",
       "      <td>2018-02-12</td>\n",
       "      <td>en</td>\n",
       "      <td>Adventure|Crime|Documentary|</td>\n",
       "      <td>NaN</td>\n",
       "      <td>5.0</td>\n",
       "      <td>Dale Dudes Productions</td>\n",
       "      <td>US</td>\n",
       "      <td>5.000000e+00</td>\n",
       "      <td>0</td>\n",
       "      <td>2</td>\n",
       "      <td>1</td>\n",
       "      <td>en</td>\n",
       "      <td>Non_Collection</td>\n",
       "      <td>0.0</td>\n",
       "    </tr>\n",
       "    <tr>\n",
       "      <td>256</td>\n",
       "      <td>0.651</td>\n",
       "      <td>1.0</td>\n",
       "      <td>7.0</td>\n",
       "      <td>2018-07-19</td>\n",
       "      <td>en</td>\n",
       "      <td>Horror|Comedy|</td>\n",
       "      <td>NaN</td>\n",
       "      <td>69.0</td>\n",
       "      <td>ODDYSS3Y</td>\n",
       "      <td>US</td>\n",
       "      <td>4.000000e+00</td>\n",
       "      <td>3</td>\n",
       "      <td>7</td>\n",
       "      <td>3</td>\n",
       "      <td>en</td>\n",
       "      <td>Non_Collection</td>\n",
       "      <td>0.0</td>\n",
       "    </tr>\n",
       "    <tr>\n",
       "      <td>257</td>\n",
       "      <td>0.600</td>\n",
       "      <td>1.0</td>\n",
       "      <td>10.0</td>\n",
       "      <td>2018-05-10</td>\n",
       "      <td>en</td>\n",
       "      <td>na|</td>\n",
       "      <td>NaN</td>\n",
       "      <td>500.0</td>\n",
       "      <td>na</td>\n",
       "      <td>na</td>\n",
       "      <td>2.000000e+00</td>\n",
       "      <td>3</td>\n",
       "      <td>5</td>\n",
       "      <td>2</td>\n",
       "      <td>en</td>\n",
       "      <td>Non_Collection</td>\n",
       "      <td>0.0</td>\n",
       "    </tr>\n",
       "    <tr>\n",
       "      <td>258</td>\n",
       "      <td>0.645</td>\n",
       "      <td>1.0</td>\n",
       "      <td>10.0</td>\n",
       "      <td>2018-03-17</td>\n",
       "      <td>en</td>\n",
       "      <td>na|</td>\n",
       "      <td>NaN</td>\n",
       "      <td>14.0</td>\n",
       "      <td>na</td>\n",
       "      <td>na</td>\n",
       "      <td>1.000000e+00</td>\n",
       "      <td>5</td>\n",
       "      <td>3</td>\n",
       "      <td>1</td>\n",
       "      <td>en</td>\n",
       "      <td>Non_Collection</td>\n",
       "      <td>0.0</td>\n",
       "    </tr>\n",
       "    <tr>\n",
       "      <td>259</td>\n",
       "      <td>1.014</td>\n",
       "      <td>1.0</td>\n",
       "      <td>7.0</td>\n",
       "      <td>2018-02-08</td>\n",
       "      <td>en</td>\n",
       "      <td>Documentary|</td>\n",
       "      <td>NaN</td>\n",
       "      <td>10.0</td>\n",
       "      <td>na</td>\n",
       "      <td>na</td>\n",
       "      <td>1.000000e+00</td>\n",
       "      <td>3</td>\n",
       "      <td>2</td>\n",
       "      <td>1</td>\n",
       "      <td>en</td>\n",
       "      <td>Non_Collection</td>\n",
       "      <td>0.0</td>\n",
       "    </tr>\n",
       "  </tbody>\n",
       "</table>\n",
       "<p>260 rows × 17 columns</p>\n",
       "</div>"
      ],
      "text/plain": [
       "     popularity  vote_count_x  vote_average_x release_date  \\\n",
       "0        82.250       16683.0             8.3   2018-04-25   \n",
       "1        38.895       14192.0             7.4   2018-02-13   \n",
       "2        31.957        6878.0             6.5   2018-06-06   \n",
       "3        30.431        7607.0             7.5   2018-06-14   \n",
       "4        31.991        7849.0             6.8   2018-12-07   \n",
       "..          ...           ...             ...          ...   \n",
       "255       0.600           0.0             0.0   2018-02-12   \n",
       "256       0.651           1.0             7.0   2018-07-19   \n",
       "257       0.600           1.0            10.0   2018-05-10   \n",
       "258       0.645           1.0            10.0   2018-03-17   \n",
       "259       1.014           1.0             7.0   2018-02-08   \n",
       "\n",
       "    original_language_x                                  genre_ids  \\\n",
       "0                    en          Adventure|Action|Science Fiction|   \n",
       "1                    en  Adventure|Fantasy|Action|Science Fiction|   \n",
       "2                    en          Adventure|Action|Science Fiction|   \n",
       "3                    en         Adventure|Animation|Action|Family|   \n",
       "4                    en                  Adventure|Fantasy|Action|   \n",
       "..                  ...                                        ...   \n",
       "255                  en               Adventure|Crime|Documentary|   \n",
       "256                  en                             Horror|Comedy|   \n",
       "257                  en                                        na|   \n",
       "258                  en                                        na|   \n",
       "259                  en                               Documentary|   \n",
       "\n",
       "          belongs_to_collection       budget    production_companies  \\\n",
       "0       The Avengers Collection  300000000.0          Marvel Studios   \n",
       "1      Black Panther Collection  200000000.0          Marvel Studios   \n",
       "2      Jurassic Park Collection  170000000.0    Amblin Entertainment   \n",
       "3    The Incredibles Collection  200000000.0    Walt Disney Pictures   \n",
       "4            Aquaman Collection  160000000.0               DC Comics   \n",
       "..                          ...          ...                     ...   \n",
       "255                         NaN          5.0  Dale Dudes Productions   \n",
       "256                         NaN         69.0                ODDYSS3Y   \n",
       "257                         NaN        500.0                      na   \n",
       "258                         NaN         14.0                      na   \n",
       "259                         NaN         10.0                      na   \n",
       "\n",
       "    production_countries       revenue  day_of_week  month  quarter  \\\n",
       "0                     US  2.046240e+09            2      4        2   \n",
       "1                     US  1.346739e+09            1      2        1   \n",
       "2                     US  1.303460e+09            2      6        2   \n",
       "3                     US  1.241891e+09            3      6        2   \n",
       "4                     AU  1.143689e+09            4     12        4   \n",
       "..                   ...           ...          ...    ...      ...   \n",
       "255                   US  5.000000e+00            0      2        1   \n",
       "256                   US  4.000000e+00            3      7        3   \n",
       "257                   na  2.000000e+00            3      5        2   \n",
       "258                   na  1.000000e+00            5      3        1   \n",
       "259                   na  1.000000e+00            3      2        1   \n",
       "\n",
       "    en_int_lang      collection  profitable  \n",
       "0            en      Collection         1.0  \n",
       "1            en      Collection         1.0  \n",
       "2            en      Collection         1.0  \n",
       "3            en      Collection         1.0  \n",
       "4            en      Collection         1.0  \n",
       "..          ...             ...         ...  \n",
       "255          en  Non_Collection         0.0  \n",
       "256          en  Non_Collection         0.0  \n",
       "257          en  Non_Collection         0.0  \n",
       "258          en  Non_Collection         0.0  \n",
       "259          en  Non_Collection         0.0  \n",
       "\n",
       "[260 rows x 17 columns]"
      ]
     },
     "execution_count": 16,
     "metadata": {},
     "output_type": "execute_result"
    }
   ],
   "source": [
    "df_revenue"
   ]
  },
  {
   "cell_type": "code",
   "execution_count": 17,
   "metadata": {},
   "outputs": [
    {
     "data": {
      "text/plain": [
       "<matplotlib.axes._subplots.AxesSubplot at 0x103224790>"
      ]
     },
     "execution_count": 17,
     "metadata": {},
     "output_type": "execute_result"
    },
    {
     "data": {
      "image/png": "[encoded data removed]",
      "text/plain": [
       "<Figure size 1080x576 with 1 Axes>"
      ]
     },
     "metadata": {
      "needs_background": "light"
     },
     "output_type": "display_data"
    }
   ],
   "source": [
    "plt.figure(figsize=(15,8))\n",
    "plt.ylim(top=200000000)\n",
    "plt.ticklabel_format(style='plain')\n",
    "# plt.show()\n",
    "sns.boxplot(x=\"profitable\", y=\"budget\", data=df_revenue)"
   ]
  },
  {
   "cell_type": "code",
   "execution_count": 18,
   "metadata": {},
   "outputs": [
    {
     "data": {
      "text/html": [
       "<div>\n",
       "<style scoped>\n",
       "    .dataframe tbody tr th:only-of-type {\n",
       "        vertical-align: middle;\n",
       "    }\n",
       "\n",
       "    .dataframe tbody tr th {\n",
       "        vertical-align: top;\n",
       "    }\n",
       "\n",
       "    .dataframe thead th {\n",
       "        text-align: right;\n",
       "    }\n",
       "</style>\n",
       "<table border=\"1\" class=\"dataframe\">\n",
       "  <thead>\n",
       "    <tr style=\"text-align: right;\">\n",
       "      <th></th>\n",
       "      <th>count</th>\n",
       "      <th>mean</th>\n",
       "      <th>std</th>\n",
       "      <th>min</th>\n",
       "      <th>25%</th>\n",
       "      <th>50%</th>\n",
       "      <th>75%</th>\n",
       "      <th>max</th>\n",
       "    </tr>\n",
       "    <tr>\n",
       "      <th>profitable</th>\n",
       "      <th></th>\n",
       "      <th></th>\n",
       "      <th></th>\n",
       "      <th></th>\n",
       "      <th></th>\n",
       "      <th></th>\n",
       "      <th></th>\n",
       "      <th></th>\n",
       "    </tr>\n",
       "  </thead>\n",
       "  <tbody>\n",
       "    <tr>\n",
       "      <td>0.0</td>\n",
       "      <td>86.0</td>\n",
       "      <td>1.301122e+07</td>\n",
       "      <td>2.208137e+07</td>\n",
       "      <td>5.0</td>\n",
       "      <td>3250.0</td>\n",
       "      <td>2170000.0</td>\n",
       "      <td>19000000.00</td>\n",
       "      <td>120000000.0</td>\n",
       "    </tr>\n",
       "    <tr>\n",
       "      <td>1.0</td>\n",
       "      <td>174.0</td>\n",
       "      <td>3.581609e+07</td>\n",
       "      <td>5.420961e+07</td>\n",
       "      <td>1.0</td>\n",
       "      <td>1501177.5</td>\n",
       "      <td>12250000.0</td>\n",
       "      <td>42802059.75</td>\n",
       "      <td>300000000.0</td>\n",
       "    </tr>\n",
       "  </tbody>\n",
       "</table>\n",
       "</div>"
      ],
      "text/plain": [
       "            count          mean           std  min        25%         50%  \\\n",
       "profitable                                                                  \n",
       "0.0          86.0  1.301122e+07  2.208137e+07  5.0     3250.0   2170000.0   \n",
       "1.0         174.0  3.581609e+07  5.420961e+07  1.0  1501177.5  12250000.0   \n",
       "\n",
       "                    75%          max  \n",
       "profitable                            \n",
       "0.0         19000000.00  120000000.0  \n",
       "1.0         42802059.75  300000000.0  "
      ]
     },
     "execution_count": 18,
     "metadata": {},
     "output_type": "execute_result"
    }
   ],
   "source": [
    "df_revenue.groupby('profitable')['budget'].describe()"
   ]
  },
  {
   "cell_type": "code",
   "execution_count": 19,
   "metadata": {},
   "outputs": [],
   "source": [
    "df_profitable = df_revenue[df_revenue['profitable'] ==1]\n",
    "df_not_profitable = df_revenue[df_revenue['profitable'] ==0]"
   ]
  },
  {
   "cell_type": "code",
   "execution_count": 20,
   "metadata": {},
   "outputs": [
    {
     "data": {
      "text/plain": [
       "(174, 17)"
      ]
     },
     "execution_count": 20,
     "metadata": {},
     "output_type": "execute_result"
    }
   ],
   "source": [
    "df_profitable.shape"
   ]
  },
  {
   "cell_type": "code",
   "execution_count": 21,
   "metadata": {},
   "outputs": [
    {
     "data": {
      "text/plain": [
       "(86, 17)"
      ]
     },
     "execution_count": 21,
     "metadata": {},
     "output_type": "execute_result"
    }
   ],
   "source": [
    "df_not_profitable.shape"
   ]
  },
  {
   "cell_type": "code",
   "execution_count": 22,
   "metadata": {},
   "outputs": [
    {
     "data": {
      "text/plain": [
       "LeveneResult(statistic=13.066944691228477, pvalue=0.0003613344765608587)"
      ]
     },
     "execution_count": 22,
     "metadata": {},
     "output_type": "execute_result"
    }
   ],
   "source": [
    "# Levene's test for homogeneity of variance  is significant \n",
    "# so should conduct Welch's T-Test instead of students T-Test\n",
    "stats.levene(df_profitable['budget'], df_not_profitable['budget'])\n",
    "\n"
   ]
  },
  {
   "cell_type": "code",
   "execution_count": 23,
   "metadata": {},
   "outputs": [
    {
     "data": {
      "text/plain": [
       "(0.6919406652450562, 1.2402933047438534e-17)"
      ]
     },
     "execution_count": 23,
     "metadata": {},
     "output_type": "execute_result"
    }
   ],
   "source": [
    "# diff = df_profitable['budget'] - df_not_profitable['budget']\n",
    "\n",
    "stats.shapiro(df_profitable['budget'])\n"
   ]
  },
  {
   "cell_type": "code",
   "execution_count": 24,
   "metadata": {},
   "outputs": [
    {
     "data": {
      "text/plain": [
       "(0.6476919054985046, 4.692994582354559e-13)"
      ]
     },
     "execution_count": 24,
     "metadata": {},
     "output_type": "execute_result"
    }
   ],
   "source": [
    "stats.shapiro(df_not_profitable['budget'])"
   ]
  },
  {
   "cell_type": "code",
   "execution_count": 25,
   "metadata": {},
   "outputs": [
    {
     "data": {
      "text/plain": [
       "Ttest_indResult(statistic=4.801441422553901, pvalue=2.7088644798051934e-06)"
      ]
     },
     "execution_count": 25,
     "metadata": {},
     "output_type": "execute_result"
    }
   ],
   "source": [
    "stats.ttest_ind(df_profitable['budget'], df_not_profitable['budget'], equal_var = False)"
   ]
  },
  {
   "cell_type": "code",
   "execution_count": 146,
   "metadata": {},
   "outputs": [
    {
     "name": "stdout",
     "output_type": "stream",
     "text": [
      "\n",
      " Welch's t-test= 4.8014 \n",
      " p-value = 0.00000271 \n",
      " Welch-Satterthwaite Degrees of Freedom= 251.0629\n"
     ]
    }
   ],
   "source": [
    "def welch_ttest(x, y): \n",
    "    ## Welch-Satterthwaite Degrees of Freedom ##\n",
    "    dof = (x.var()/x.size + y.var()/y.size)**2 / ((x.var()/x.size)**2 / (x.size-1) + (y.var()/y.size)**2 / (y.size-1))\n",
    "   \n",
    "    t, p = stats.ttest_ind(x, y, equal_var = False)\n",
    "    \n",
    "    print(\"\\n\",\n",
    "          f\"Welch's t-test= {t:.4f}\", \"\\n\",\n",
    "          f\"p-value = {p:.8f}\", \"\\n\",\n",
    "          f\"Welch-Satterthwaite Degrees of Freedom= {dof:.4f}\")\n",
    "\n",
    "welch_ttest(df_profitable['budget'], df_not_profitable['budget'])"
   ]
  },
  {
   "cell_type": "code",
   "execution_count": 27,
   "metadata": {},
   "outputs": [
    {
     "data": {
      "text/plain": [
       "(0.6416126489639282, 5.0317691632470354e-23)"
      ]
     },
     "execution_count": 27,
     "metadata": {},
     "output_type": "execute_result"
    }
   ],
   "source": [
    "stats.shapiro(df_revenue['budget'])"
   ]
  },
  {
   "cell_type": "code",
   "execution_count": 28,
   "metadata": {},
   "outputs": [
    {
     "data": {
      "text/plain": [
       "(0.4618762135505676, 2.69166447542904e-27)"
      ]
     },
     "execution_count": 28,
     "metadata": {},
     "output_type": "execute_result"
    }
   ],
   "source": [
    "stats.shapiro(df_revenue['revenue'])"
   ]
  },
  {
   "cell_type": "code",
   "execution_count": 29,
   "metadata": {},
   "outputs": [
    {
     "data": {
      "text/plain": [
       "<matplotlib.axes._subplots.AxesSubplot at 0x1c18c08b10>"
      ]
     },
     "execution_count": 29,
     "metadata": {},
     "output_type": "execute_result"
    },
    {
     "data": {
      "image/png": "[encoded data removed]",
      "text/plain": [
       "<Figure size 432x288 with 1 Axes>"
      ]
     },
     "metadata": {
      "needs_background": "light"
     },
     "output_type": "display_data"
    }
   ],
   "source": [
    "# plt.ticklabel_format(style='plain')\n",
    "sns.distplot(df_revenue['budget'])"
   ]
  },
  {
   "cell_type": "code",
   "execution_count": 30,
   "metadata": {},
   "outputs": [
    {
     "data": {
      "text/plain": [
       "<matplotlib.axes._subplots.AxesSubplot at 0x1c18e71d90>"
      ]
     },
     "execution_count": 30,
     "metadata": {},
     "output_type": "execute_result"
    },
    {
     "data": {
      "image/png": "[encoded data removed]",
      "text/plain": [
       "<Figure size 432x288 with 1 Axes>"
      ]
     },
     "metadata": {
      "needs_background": "light"
     },
     "output_type": "display_data"
    }
   ],
   "source": [
    "plt.ticklabel_format(style='plain')\n",
    "sns.distplot(df_revenue['revenue'])"
   ]
  },
  {
   "cell_type": "code",
   "execution_count": 31,
   "metadata": {},
   "outputs": [
    {
     "name": "stderr",
     "output_type": "stream",
     "text": [
      "/Users/apple/opt/anaconda3/lib/python3.7/site-packages/scipy/stats/morestats.py:1660: UserWarning: p-value may not be accurate for N > 5000.\n",
      "  warnings.warn(\"p-value may not be accurate for N > 5000.\")\n"
     ]
    },
    {
     "data": {
      "text/plain": [
       "(0.8570187091827393, 0.0)"
      ]
     },
     "execution_count": 31,
     "metadata": {},
     "output_type": "execute_result"
    },
    {
     "data": {
      "image/png": "[encoded data removed]",
      "text/plain": [
       "<Figure size 432x288 with 1 Axes>"
      ]
     },
     "metadata": {
      "needs_background": "light"
     },
     "output_type": "display_data"
    }
   ],
   "source": [
    "\n",
    "sns.distplot(df['vote_average_x'])\n",
    "stats.shapiro(df['vote_average_x'])"
   ]
  },
  {
   "cell_type": "code",
   "execution_count": 32,
   "metadata": {},
   "outputs": [
    {
     "data": {
      "text/plain": [
       "Drama|                                       21\n",
       "Comedy|                                      18\n",
       "Drama|Comedy|                                12\n",
       "na|                                           6\n",
       "Action|Thriller|Crime|                        6\n",
       "Drama|Action|                                 6\n",
       "Action|Science Fiction|                       5\n",
       "Horror|Thriller|                              5\n",
       "Drama|Romance|                                5\n",
       "Comedy|Romance|                               5\n",
       "Drama|Crime|                                  5\n",
       "Drama|Comedy|Romance|                         5\n",
       "Drama|Action|Thriller|Crime|                  5\n",
       "Horror|Thriller|Mystery|                      4\n",
       "Adventure|Animation|Comedy|Family|            3\n",
       "Drama|History|Thriller|                       3\n",
       "Action|                                       3\n",
       "Drama|Thriller|Mystery|                       3\n",
       "Action|Thriller|                              3\n",
       "Adventure|Fantasy|Action|Science Fiction|     3\n",
       "Adventure|Drama|                              3\n",
       "Drama|History|                                3\n",
       "Adventure|Fantasy|Action|                     3\n",
       "Adventure|Action|Science Fiction|             3\n",
       "Horror|Comedy|                                3\n",
       "Name: genre_ids, dtype: int64"
      ]
     },
     "execution_count": 32,
     "metadata": {},
     "output_type": "execute_result"
    }
   ],
   "source": [
    "df_revenue['genre_ids'].value_counts().nlargest(20, keep='all')"
   ]
  },
  {
   "cell_type": "code",
   "execution_count": 33,
   "metadata": {},
   "outputs": [
    {
     "name": "stderr",
     "output_type": "stream",
     "text": [
      "/Users/apple/opt/anaconda3/lib/python3.7/site-packages/ipykernel_launcher.py:1: UserWarning: Boolean Series key will be reindexed to match DataFrame index.\n",
      "  \"\"\"Entry point for launching an IPython kernel.\n"
     ]
    }
   ],
   "source": [
    "df_genre = df_revenue[(df_revenue['genre_ids'].value_counts()>4) & (df_revenue['genre_ids'] != 'na')]"
   ]
  },
  {
   "cell_type": "code",
   "execution_count": 34,
   "metadata": {},
   "outputs": [
    {
     "data": {
      "text/html": [
       "<div>\n",
       "<style scoped>\n",
       "    .dataframe tbody tr th:only-of-type {\n",
       "        vertical-align: middle;\n",
       "    }\n",
       "\n",
       "    .dataframe tbody tr th {\n",
       "        vertical-align: top;\n",
       "    }\n",
       "\n",
       "    .dataframe thead th {\n",
       "        text-align: right;\n",
       "    }\n",
       "</style>\n",
       "<table border=\"1\" class=\"dataframe\">\n",
       "  <thead>\n",
       "    <tr style=\"text-align: right;\">\n",
       "      <th></th>\n",
       "      <th>popularity</th>\n",
       "      <th>vote_count_x</th>\n",
       "      <th>vote_average_x</th>\n",
       "      <th>release_date</th>\n",
       "      <th>original_language_x</th>\n",
       "      <th>genre_ids</th>\n",
       "      <th>belongs_to_collection</th>\n",
       "      <th>budget</th>\n",
       "      <th>production_companies</th>\n",
       "      <th>production_countries</th>\n",
       "      <th>revenue</th>\n",
       "      <th>day_of_week</th>\n",
       "      <th>month</th>\n",
       "      <th>quarter</th>\n",
       "      <th>en_int_lang</th>\n",
       "      <th>collection</th>\n",
       "      <th>profitable</th>\n",
       "    </tr>\n",
       "  </thead>\n",
       "  <tbody>\n",
       "  </tbody>\n",
       "</table>\n",
       "</div>"
      ],
      "text/plain": [
       "Empty DataFrame\n",
       "Columns: [popularity, vote_count_x, vote_average_x, release_date, original_language_x, genre_ids, belongs_to_collection, budget, production_companies, production_countries, revenue, day_of_week, month, quarter, en_int_lang, collection, profitable]\n",
       "Index: []"
      ]
     },
     "execution_count": 34,
     "metadata": {},
     "output_type": "execute_result"
    }
   ],
   "source": [
    "df_genre"
   ]
  },
  {
   "cell_type": "code",
   "execution_count": 35,
   "metadata": {},
   "outputs": [
    {
     "data": {
      "image/png": "[encoded data removed]",
      "text/plain": [
       "<Figure size 432x288 with 1 Axes>"
      ]
     },
     "metadata": {
      "needs_background": "light"
     },
     "output_type": "display_data"
    },
    {
     "data": {
      "image/png": "[encoded data removed]",
      "text/plain": [
       "<Figure size 432x288 with 1 Axes>"
      ]
     },
     "metadata": {
      "needs_background": "light"
     },
     "output_type": "display_data"
    },
    {
     "data": {
      "image/png": "[encoded data removed]",
      "text/plain": [
       "<Figure size 432x288 with 1 Axes>"
      ]
     },
     "metadata": {
      "needs_background": "light"
     },
     "output_type": "display_data"
    }
   ],
   "source": [
    "\n",
    "sm.qqplot(df_revenue['revenue'])\n",
    "sm.qqplot(df['budget'])\n",
    "sm.qqplot(df['vote_average_x'])\n",
    "pylab.show()"
   ]
  },
  {
   "cell_type": "code",
   "execution_count": 36,
   "metadata": {},
   "outputs": [
    {
     "data": {
      "image/png": "[encoded data removed]",
      "text/plain": [
       "<Figure size 432x288 with 1 Axes>"
      ]
     },
     "metadata": {
      "needs_background": "light"
     },
     "output_type": "display_data"
    }
   ],
   "source": [
    "sm.qqplot(df['budget'])\n",
    "pylab.show()"
   ]
  },
  {
   "cell_type": "code",
   "execution_count": 37,
   "metadata": {},
   "outputs": [
    {
     "data": {
      "image/png": "[encoded data removed]",
      "text/plain": [
       "<Figure size 432x288 with 1 Axes>"
      ]
     },
     "execution_count": 37,
     "metadata": {},
     "output_type": "execute_result"
    },
    {
     "data": {
      "image/png": "[encoded data removed]",
      "text/plain": [
       "<Figure size 432x288 with 1 Axes>"
      ]
     },
     "metadata": {
      "needs_background": "light"
     },
     "output_type": "display_data"
    }
   ],
   "source": [
    "sm.qqplot(df['vote_average_x'])"
   ]
  },
  {
   "cell_type": "code",
   "execution_count": 38,
   "metadata": {},
   "outputs": [],
   "source": [
    "df_test = df[(df['vote_average_x'] != 0) & (df['vote_count_x'] >30)]"
   ]
  },
  {
   "cell_type": "code",
   "execution_count": 39,
   "metadata": {},
   "outputs": [
    {
     "data": {
      "text/html": [
       "<div>\n",
       "<style scoped>\n",
       "    .dataframe tbody tr th:only-of-type {\n",
       "        vertical-align: middle;\n",
       "    }\n",
       "\n",
       "    .dataframe tbody tr th {\n",
       "        vertical-align: top;\n",
       "    }\n",
       "\n",
       "    .dataframe thead th {\n",
       "        text-align: right;\n",
       "    }\n",
       "</style>\n",
       "<table border=\"1\" class=\"dataframe\">\n",
       "  <thead>\n",
       "    <tr style=\"text-align: right;\">\n",
       "      <th></th>\n",
       "      <th>popularity</th>\n",
       "      <th>vote_count_x</th>\n",
       "      <th>vote_average_x</th>\n",
       "      <th>release_date</th>\n",
       "      <th>original_language_x</th>\n",
       "      <th>genre_ids</th>\n",
       "      <th>belongs_to_collection</th>\n",
       "      <th>budget</th>\n",
       "      <th>production_companies</th>\n",
       "      <th>production_countries</th>\n",
       "      <th>revenue</th>\n",
       "      <th>day_of_week</th>\n",
       "      <th>month</th>\n",
       "      <th>quarter</th>\n",
       "      <th>en_int_lang</th>\n",
       "      <th>collection</th>\n",
       "    </tr>\n",
       "  </thead>\n",
       "  <tbody>\n",
       "    <tr>\n",
       "      <td>0</td>\n",
       "      <td>82.250</td>\n",
       "      <td>16683.0</td>\n",
       "      <td>8.3</td>\n",
       "      <td>2018-04-25</td>\n",
       "      <td>en</td>\n",
       "      <td>Adventure|Action|Science Fiction|</td>\n",
       "      <td>The Avengers Collection</td>\n",
       "      <td>300000000.0</td>\n",
       "      <td>Marvel Studios</td>\n",
       "      <td>US</td>\n",
       "      <td>2.046240e+09</td>\n",
       "      <td>2</td>\n",
       "      <td>4</td>\n",
       "      <td>2</td>\n",
       "      <td>en</td>\n",
       "      <td>Collection</td>\n",
       "    </tr>\n",
       "    <tr>\n",
       "      <td>1</td>\n",
       "      <td>38.895</td>\n",
       "      <td>14192.0</td>\n",
       "      <td>7.4</td>\n",
       "      <td>2018-02-13</td>\n",
       "      <td>en</td>\n",
       "      <td>Adventure|Fantasy|Action|Science Fiction|</td>\n",
       "      <td>Black Panther Collection</td>\n",
       "      <td>200000000.0</td>\n",
       "      <td>Marvel Studios</td>\n",
       "      <td>US</td>\n",
       "      <td>1.346739e+09</td>\n",
       "      <td>1</td>\n",
       "      <td>2</td>\n",
       "      <td>1</td>\n",
       "      <td>en</td>\n",
       "      <td>Collection</td>\n",
       "    </tr>\n",
       "    <tr>\n",
       "      <td>2</td>\n",
       "      <td>31.957</td>\n",
       "      <td>6878.0</td>\n",
       "      <td>6.5</td>\n",
       "      <td>2018-06-06</td>\n",
       "      <td>en</td>\n",
       "      <td>Adventure|Action|Science Fiction|</td>\n",
       "      <td>Jurassic Park Collection</td>\n",
       "      <td>170000000.0</td>\n",
       "      <td>Amblin Entertainment</td>\n",
       "      <td>US</td>\n",
       "      <td>1.303460e+09</td>\n",
       "      <td>2</td>\n",
       "      <td>6</td>\n",
       "      <td>2</td>\n",
       "      <td>en</td>\n",
       "      <td>Collection</td>\n",
       "    </tr>\n",
       "    <tr>\n",
       "      <td>3</td>\n",
       "      <td>30.431</td>\n",
       "      <td>7607.0</td>\n",
       "      <td>7.5</td>\n",
       "      <td>2018-06-14</td>\n",
       "      <td>en</td>\n",
       "      <td>Adventure|Animation|Action|Family|</td>\n",
       "      <td>The Incredibles Collection</td>\n",
       "      <td>200000000.0</td>\n",
       "      <td>Walt Disney Pictures</td>\n",
       "      <td>US</td>\n",
       "      <td>1.241891e+09</td>\n",
       "      <td>3</td>\n",
       "      <td>6</td>\n",
       "      <td>2</td>\n",
       "      <td>en</td>\n",
       "      <td>Collection</td>\n",
       "    </tr>\n",
       "    <tr>\n",
       "      <td>4</td>\n",
       "      <td>31.991</td>\n",
       "      <td>7849.0</td>\n",
       "      <td>6.8</td>\n",
       "      <td>2018-12-07</td>\n",
       "      <td>en</td>\n",
       "      <td>Adventure|Fantasy|Action|</td>\n",
       "      <td>Aquaman Collection</td>\n",
       "      <td>160000000.0</td>\n",
       "      <td>DC Comics</td>\n",
       "      <td>AU</td>\n",
       "      <td>1.143689e+09</td>\n",
       "      <td>4</td>\n",
       "      <td>12</td>\n",
       "      <td>4</td>\n",
       "      <td>en</td>\n",
       "      <td>Collection</td>\n",
       "    </tr>\n",
       "    <tr>\n",
       "      <td>...</td>\n",
       "      <td>...</td>\n",
       "      <td>...</td>\n",
       "      <td>...</td>\n",
       "      <td>...</td>\n",
       "      <td>...</td>\n",
       "      <td>...</td>\n",
       "      <td>...</td>\n",
       "      <td>...</td>\n",
       "      <td>...</td>\n",
       "      <td>...</td>\n",
       "      <td>...</td>\n",
       "      <td>...</td>\n",
       "      <td>...</td>\n",
       "      <td>...</td>\n",
       "      <td>...</td>\n",
       "      <td>...</td>\n",
       "    </tr>\n",
       "    <tr>\n",
       "      <td>6505</td>\n",
       "      <td>5.150</td>\n",
       "      <td>34.0</td>\n",
       "      <td>3.7</td>\n",
       "      <td>2018-12-14</td>\n",
       "      <td>en</td>\n",
       "      <td>Thriller|Science Fiction|</td>\n",
       "      <td>NaN</td>\n",
       "      <td>0.0</td>\n",
       "      <td>Spoke Lane Entertainment</td>\n",
       "      <td>US</td>\n",
       "      <td>0.000000e+00</td>\n",
       "      <td>4</td>\n",
       "      <td>12</td>\n",
       "      <td>4</td>\n",
       "      <td>en</td>\n",
       "      <td>Non_Collection</td>\n",
       "    </tr>\n",
       "    <tr>\n",
       "      <td>6506</td>\n",
       "      <td>5.406</td>\n",
       "      <td>32.0</td>\n",
       "      <td>3.7</td>\n",
       "      <td>2018-05-04</td>\n",
       "      <td>en</td>\n",
       "      <td>Action|Thriller|Science Fiction|</td>\n",
       "      <td>NaN</td>\n",
       "      <td>0.0</td>\n",
       "      <td>Premiere Entertainment Group</td>\n",
       "      <td>US</td>\n",
       "      <td>0.000000e+00</td>\n",
       "      <td>4</td>\n",
       "      <td>5</td>\n",
       "      <td>2</td>\n",
       "      <td>en</td>\n",
       "      <td>Non_Collection</td>\n",
       "    </tr>\n",
       "    <tr>\n",
       "      <td>6518</td>\n",
       "      <td>9.340</td>\n",
       "      <td>927.0</td>\n",
       "      <td>3.7</td>\n",
       "      <td>2018-01-19</td>\n",
       "      <td>en</td>\n",
       "      <td>Horror|Thriller|</td>\n",
       "      <td>NaN</td>\n",
       "      <td>0.0</td>\n",
       "      <td>na</td>\n",
       "      <td>US</td>\n",
       "      <td>0.000000e+00</td>\n",
       "      <td>4</td>\n",
       "      <td>1</td>\n",
       "      <td>1</td>\n",
       "      <td>en</td>\n",
       "      <td>Non_Collection</td>\n",
       "    </tr>\n",
       "    <tr>\n",
       "      <td>6554</td>\n",
       "      <td>36.024</td>\n",
       "      <td>43.0</td>\n",
       "      <td>3.6</td>\n",
       "      <td>2018-08-20</td>\n",
       "      <td>en</td>\n",
       "      <td>Adventure|Action|Science Fiction|</td>\n",
       "      <td>NaN</td>\n",
       "      <td>0.0</td>\n",
       "      <td>Dual Visions</td>\n",
       "      <td>US</td>\n",
       "      <td>0.000000e+00</td>\n",
       "      <td>0</td>\n",
       "      <td>8</td>\n",
       "      <td>3</td>\n",
       "      <td>en</td>\n",
       "      <td>Non_Collection</td>\n",
       "    </tr>\n",
       "    <tr>\n",
       "      <td>6697</td>\n",
       "      <td>5.051</td>\n",
       "      <td>103.0</td>\n",
       "      <td>2.4</td>\n",
       "      <td>2018-07-13</td>\n",
       "      <td>es</td>\n",
       "      <td>Horror|Thriller|</td>\n",
       "      <td>NaN</td>\n",
       "      <td>0.0</td>\n",
       "      <td>na</td>\n",
       "      <td>MX</td>\n",
       "      <td>0.000000e+00</td>\n",
       "      <td>4</td>\n",
       "      <td>7</td>\n",
       "      <td>3</td>\n",
       "      <td>int</td>\n",
       "      <td>Non_Collection</td>\n",
       "    </tr>\n",
       "  </tbody>\n",
       "</table>\n",
       "<p>931 rows × 16 columns</p>\n",
       "</div>"
      ],
      "text/plain": [
       "      popularity  vote_count_x  vote_average_x release_date  \\\n",
       "0         82.250       16683.0             8.3   2018-04-25   \n",
       "1         38.895       14192.0             7.4   2018-02-13   \n",
       "2         31.957        6878.0             6.5   2018-06-06   \n",
       "3         30.431        7607.0             7.5   2018-06-14   \n",
       "4         31.991        7849.0             6.8   2018-12-07   \n",
       "...          ...           ...             ...          ...   \n",
       "6505       5.150          34.0             3.7   2018-12-14   \n",
       "6506       5.406          32.0             3.7   2018-05-04   \n",
       "6518       9.340         927.0             3.7   2018-01-19   \n",
       "6554      36.024          43.0             3.6   2018-08-20   \n",
       "6697       5.051         103.0             2.4   2018-07-13   \n",
       "\n",
       "     original_language_x                                  genre_ids  \\\n",
       "0                     en          Adventure|Action|Science Fiction|   \n",
       "1                     en  Adventure|Fantasy|Action|Science Fiction|   \n",
       "2                     en          Adventure|Action|Science Fiction|   \n",
       "3                     en         Adventure|Animation|Action|Family|   \n",
       "4                     en                  Adventure|Fantasy|Action|   \n",
       "...                  ...                                        ...   \n",
       "6505                  en                  Thriller|Science Fiction|   \n",
       "6506                  en           Action|Thriller|Science Fiction|   \n",
       "6518                  en                           Horror|Thriller|   \n",
       "6554                  en          Adventure|Action|Science Fiction|   \n",
       "6697                  es                           Horror|Thriller|   \n",
       "\n",
       "           belongs_to_collection       budget          production_companies  \\\n",
       "0        The Avengers Collection  300000000.0                Marvel Studios   \n",
       "1       Black Panther Collection  200000000.0                Marvel Studios   \n",
       "2       Jurassic Park Collection  170000000.0          Amblin Entertainment   \n",
       "3     The Incredibles Collection  200000000.0          Walt Disney Pictures   \n",
       "4             Aquaman Collection  160000000.0                     DC Comics   \n",
       "...                          ...          ...                           ...   \n",
       "6505                         NaN          0.0      Spoke Lane Entertainment   \n",
       "6506                         NaN          0.0  Premiere Entertainment Group   \n",
       "6518                         NaN          0.0                            na   \n",
       "6554                         NaN          0.0                  Dual Visions   \n",
       "6697                         NaN          0.0                            na   \n",
       "\n",
       "     production_countries       revenue  day_of_week  month  quarter  \\\n",
       "0                      US  2.046240e+09            2      4        2   \n",
       "1                      US  1.346739e+09            1      2        1   \n",
       "2                      US  1.303460e+09            2      6        2   \n",
       "3                      US  1.241891e+09            3      6        2   \n",
       "4                      AU  1.143689e+09            4     12        4   \n",
       "...                   ...           ...          ...    ...      ...   \n",
       "6505                   US  0.000000e+00            4     12        4   \n",
       "6506                   US  0.000000e+00            4      5        2   \n",
       "6518                   US  0.000000e+00            4      1        1   \n",
       "6554                   US  0.000000e+00            0      8        3   \n",
       "6697                   MX  0.000000e+00            4      7        3   \n",
       "\n",
       "     en_int_lang      collection  \n",
       "0             en      Collection  \n",
       "1             en      Collection  \n",
       "2             en      Collection  \n",
       "3             en      Collection  \n",
       "4             en      Collection  \n",
       "...          ...             ...  \n",
       "6505          en  Non_Collection  \n",
       "6506          en  Non_Collection  \n",
       "6518          en  Non_Collection  \n",
       "6554          en  Non_Collection  \n",
       "6697         int  Non_Collection  \n",
       "\n",
       "[931 rows x 16 columns]"
      ]
     },
     "execution_count": 39,
     "metadata": {},
     "output_type": "execute_result"
    }
   ],
   "source": [
    "df_test"
   ]
  },
  {
   "cell_type": "code",
   "execution_count": 40,
   "metadata": {},
   "outputs": [
    {
     "data": {
      "image/png": "[encoded data removed]",
      "text/plain": [
       "<Figure size 432x288 with 1 Axes>"
      ]
     },
     "metadata": {
      "needs_background": "light"
     },
     "output_type": "display_data"
    }
   ],
   "source": [
    "sm.qqplot(df_test['vote_average_x'])\n",
    "pylab.show()"
   ]
  },
  {
   "cell_type": "code",
   "execution_count": 41,
   "metadata": {},
   "outputs": [
    {
     "data": {
      "text/plain": [
       "(0.9939461946487427, 0.0008238866575993598)"
      ]
     },
     "execution_count": 41,
     "metadata": {},
     "output_type": "execute_result"
    },
    {
     "data": {
      "image/png": "[encoded data removed]",
      "text/plain": [
       "<Figure size 432x288 with 1 Axes>"
      ]
     },
     "metadata": {
      "needs_background": "light"
     },
     "output_type": "display_data"
    }
   ],
   "source": [
    "\n",
    "sns.distplot(df_test['vote_average_x'])\n",
    "stats.shapiro(df_test['vote_average_x'])"
   ]
  },
  {
   "cell_type": "code",
   "execution_count": 42,
   "metadata": {},
   "outputs": [],
   "source": [
    "df_revenue_test = df_revenue[(df_revenue['budget']>=50000000) & (df_revenue['revenue']>=50000000)]"
   ]
  },
  {
   "cell_type": "code",
   "execution_count": 43,
   "metadata": {},
   "outputs": [
    {
     "data": {
      "text/plain": [
       "(45, 17)"
      ]
     },
     "execution_count": 43,
     "metadata": {},
     "output_type": "execute_result"
    }
   ],
   "source": [
    "df_revenue_test.shape"
   ]
  },
  {
   "cell_type": "code",
   "execution_count": 44,
   "metadata": {},
   "outputs": [
    {
     "data": {
      "text/plain": [
       "(0.8893096446990967, 0.0004477008187677711)"
      ]
     },
     "execution_count": 44,
     "metadata": {},
     "output_type": "execute_result"
    },
    {
     "data": {
      "image/png": "[encoded data removed]",
      "text/plain": [
       "<Figure size 432x288 with 1 Axes>"
      ]
     },
     "metadata": {
      "needs_background": "light"
     },
     "output_type": "display_data"
    }
   ],
   "source": [
    "df_revenue_test['revenue']\n",
    "\n",
    "\n",
    "# plt.ticklabel_format(style='plain')\n",
    "sns.distplot(df_revenue_test['budget'], bins=25)\n",
    "stats.shapiro(df_revenue_test['budget'])\n"
   ]
  },
  {
   "cell_type": "code",
   "execution_count": 45,
   "metadata": {},
   "outputs": [
    {
     "data": {
      "image/png": "[encoded data removed]",
      "text/plain": [
       "<Figure size 432x288 with 1 Axes>"
      ]
     },
     "metadata": {
      "needs_background": "light"
     },
     "output_type": "display_data"
    },
    {
     "data": {
      "image/png": "[encoded data removed]",
      "text/plain": [
       "<Figure size 432x288 with 1 Axes>"
      ]
     },
     "metadata": {
      "needs_background": "light"
     },
     "output_type": "display_data"
    }
   ],
   "source": [
    "sm.qqplot(df_revenue_test['revenue'])\n",
    "sm.qqplot(df_revenue_test['budget'])\n",
    "\n",
    "pylab.show()"
   ]
  },
  {
   "cell_type": "code",
   "execution_count": 46,
   "metadata": {},
   "outputs": [],
   "source": [
    "df_revenue['log_revenue'] = df_revenue['revenue'].apply(np.log)"
   ]
  },
  {
   "cell_type": "code",
   "execution_count": 47,
   "metadata": {},
   "outputs": [
    {
     "data": {
      "image/png": "[encoded data removed]",
      "text/plain": [
       "<Figure size 432x288 with 1 Axes>"
      ]
     },
     "metadata": {
      "needs_background": "light"
     },
     "output_type": "display_data"
    }
   ],
   "source": [
    "sm.qqplot(df_revenue['log_revenue'])\n",
    "\n",
    "pylab.show()"
   ]
  },
  {
   "cell_type": "code",
   "execution_count": 48,
   "metadata": {},
   "outputs": [
    {
     "data": {
      "text/plain": [
       "(0.862784206867218, 1.8187574452673168e-14)"
      ]
     },
     "execution_count": 48,
     "metadata": {},
     "output_type": "execute_result"
    }
   ],
   "source": [
    "stats.shapiro(df_revenue['log_revenue'])"
   ]
  },
  {
   "cell_type": "code",
   "execution_count": 49,
   "metadata": {},
   "outputs": [],
   "source": [
    "df_revenue['revenue_norm'] = (df_revenue.revenue-df_revenue.revenue.mean())/df_revenue.revenue.std()\n",
    "\n"
   ]
  },
  {
   "cell_type": "code",
   "execution_count": 50,
   "metadata": {},
   "outputs": [],
   "source": [
    "df_revenue['log_revenue'] = df_revenue.revenue_norm.apply(np.log)"
   ]
  },
  {
   "cell_type": "code",
   "execution_count": 51,
   "metadata": {},
   "outputs": [
    {
     "data": {
      "text/plain": [
       "(nan, 1.0)"
      ]
     },
     "execution_count": 51,
     "metadata": {},
     "output_type": "execute_result"
    }
   ],
   "source": [
    "stats.shapiro(df_revenue['log_revenue'])"
   ]
  },
  {
   "cell_type": "code",
   "execution_count": 52,
   "metadata": {},
   "outputs": [
    {
     "data": {
      "image/png": "[encoded data removed]",
      "text/plain": [
       "<Figure size 432x288 with 1 Axes>"
      ]
     },
     "metadata": {
      "needs_background": "light"
     },
     "output_type": "display_data"
    }
   ],
   "source": [
    "sm.qqplot(df_revenue['log_revenue'])\n",
    "\n",
    "pylab.show()"
   ]
  },
  {
   "cell_type": "code",
   "execution_count": 53,
   "metadata": {},
   "outputs": [
    {
     "data": {
      "text/html": [
       "<div>\n",
       "<style scoped>\n",
       "    .dataframe tbody tr th:only-of-type {\n",
       "        vertical-align: middle;\n",
       "    }\n",
       "\n",
       "    .dataframe tbody tr th {\n",
       "        vertical-align: top;\n",
       "    }\n",
       "\n",
       "    .dataframe thead th {\n",
       "        text-align: right;\n",
       "    }\n",
       "</style>\n",
       "<table border=\"1\" class=\"dataframe\">\n",
       "  <thead>\n",
       "    <tr style=\"text-align: right;\">\n",
       "      <th></th>\n",
       "      <th>popularity</th>\n",
       "      <th>vote_count_x</th>\n",
       "      <th>vote_average_x</th>\n",
       "      <th>release_date</th>\n",
       "      <th>original_language_x</th>\n",
       "      <th>genre_ids</th>\n",
       "      <th>belongs_to_collection</th>\n",
       "      <th>budget</th>\n",
       "      <th>production_companies</th>\n",
       "      <th>production_countries</th>\n",
       "      <th>revenue</th>\n",
       "      <th>day_of_week</th>\n",
       "      <th>month</th>\n",
       "      <th>quarter</th>\n",
       "      <th>en_int_lang</th>\n",
       "      <th>collection</th>\n",
       "      <th>profitable</th>\n",
       "      <th>log_revenue</th>\n",
       "      <th>revenue_norm</th>\n",
       "    </tr>\n",
       "  </thead>\n",
       "  <tbody>\n",
       "    <tr>\n",
       "      <td>0</td>\n",
       "      <td>82.250</td>\n",
       "      <td>16683.0</td>\n",
       "      <td>8.3</td>\n",
       "      <td>2018-04-25</td>\n",
       "      <td>en</td>\n",
       "      <td>Adventure|Action|Science Fiction|</td>\n",
       "      <td>The Avengers Collection</td>\n",
       "      <td>300000000.0</td>\n",
       "      <td>Marvel Studios</td>\n",
       "      <td>US</td>\n",
       "      <td>2.046240e+09</td>\n",
       "      <td>2</td>\n",
       "      <td>4</td>\n",
       "      <td>2</td>\n",
       "      <td>en</td>\n",
       "      <td>Collection</td>\n",
       "      <td>1.0</td>\n",
       "      <td>2.077842</td>\n",
       "      <td>7.987214</td>\n",
       "    </tr>\n",
       "    <tr>\n",
       "      <td>1</td>\n",
       "      <td>38.895</td>\n",
       "      <td>14192.0</td>\n",
       "      <td>7.4</td>\n",
       "      <td>2018-02-13</td>\n",
       "      <td>en</td>\n",
       "      <td>Adventure|Fantasy|Action|Science Fiction|</td>\n",
       "      <td>Black Panther Collection</td>\n",
       "      <td>200000000.0</td>\n",
       "      <td>Marvel Studios</td>\n",
       "      <td>US</td>\n",
       "      <td>1.346739e+09</td>\n",
       "      <td>1</td>\n",
       "      <td>2</td>\n",
       "      <td>1</td>\n",
       "      <td>en</td>\n",
       "      <td>Collection</td>\n",
       "      <td>1.0</td>\n",
       "      <td>1.631691</td>\n",
       "      <td>5.112512</td>\n",
       "    </tr>\n",
       "    <tr>\n",
       "      <td>2</td>\n",
       "      <td>31.957</td>\n",
       "      <td>6878.0</td>\n",
       "      <td>6.5</td>\n",
       "      <td>2018-06-06</td>\n",
       "      <td>en</td>\n",
       "      <td>Adventure|Action|Science Fiction|</td>\n",
       "      <td>Jurassic Park Collection</td>\n",
       "      <td>170000000.0</td>\n",
       "      <td>Amblin Entertainment</td>\n",
       "      <td>US</td>\n",
       "      <td>1.303460e+09</td>\n",
       "      <td>2</td>\n",
       "      <td>6</td>\n",
       "      <td>2</td>\n",
       "      <td>en</td>\n",
       "      <td>Collection</td>\n",
       "      <td>1.0</td>\n",
       "      <td>1.596281</td>\n",
       "      <td>4.934649</td>\n",
       "    </tr>\n",
       "    <tr>\n",
       "      <td>3</td>\n",
       "      <td>30.431</td>\n",
       "      <td>7607.0</td>\n",
       "      <td>7.5</td>\n",
       "      <td>2018-06-14</td>\n",
       "      <td>en</td>\n",
       "      <td>Adventure|Animation|Action|Family|</td>\n",
       "      <td>The Incredibles Collection</td>\n",
       "      <td>200000000.0</td>\n",
       "      <td>Walt Disney Pictures</td>\n",
       "      <td>US</td>\n",
       "      <td>1.241891e+09</td>\n",
       "      <td>3</td>\n",
       "      <td>6</td>\n",
       "      <td>2</td>\n",
       "      <td>en</td>\n",
       "      <td>Collection</td>\n",
       "      <td>1.0</td>\n",
       "      <td>1.543645</td>\n",
       "      <td>4.681625</td>\n",
       "    </tr>\n",
       "    <tr>\n",
       "      <td>4</td>\n",
       "      <td>31.991</td>\n",
       "      <td>7849.0</td>\n",
       "      <td>6.8</td>\n",
       "      <td>2018-12-07</td>\n",
       "      <td>en</td>\n",
       "      <td>Adventure|Fantasy|Action|</td>\n",
       "      <td>Aquaman Collection</td>\n",
       "      <td>160000000.0</td>\n",
       "      <td>DC Comics</td>\n",
       "      <td>AU</td>\n",
       "      <td>1.143689e+09</td>\n",
       "      <td>4</td>\n",
       "      <td>12</td>\n",
       "      <td>4</td>\n",
       "      <td>en</td>\n",
       "      <td>Collection</td>\n",
       "      <td>1.0</td>\n",
       "      <td>1.453497</td>\n",
       "      <td>4.278048</td>\n",
       "    </tr>\n",
       "    <tr>\n",
       "      <td>...</td>\n",
       "      <td>...</td>\n",
       "      <td>...</td>\n",
       "      <td>...</td>\n",
       "      <td>...</td>\n",
       "      <td>...</td>\n",
       "      <td>...</td>\n",
       "      <td>...</td>\n",
       "      <td>...</td>\n",
       "      <td>...</td>\n",
       "      <td>...</td>\n",
       "      <td>...</td>\n",
       "      <td>...</td>\n",
       "      <td>...</td>\n",
       "      <td>...</td>\n",
       "      <td>...</td>\n",
       "      <td>...</td>\n",
       "      <td>...</td>\n",
       "      <td>...</td>\n",
       "      <td>...</td>\n",
       "    </tr>\n",
       "    <tr>\n",
       "      <td>255</td>\n",
       "      <td>0.600</td>\n",
       "      <td>0.0</td>\n",
       "      <td>0.0</td>\n",
       "      <td>2018-02-12</td>\n",
       "      <td>en</td>\n",
       "      <td>Adventure|Crime|Documentary|</td>\n",
       "      <td>NaN</td>\n",
       "      <td>5.0</td>\n",
       "      <td>Dale Dudes Productions</td>\n",
       "      <td>US</td>\n",
       "      <td>5.000000e+00</td>\n",
       "      <td>0</td>\n",
       "      <td>2</td>\n",
       "      <td>1</td>\n",
       "      <td>en</td>\n",
       "      <td>Non_Collection</td>\n",
       "      <td>0.0</td>\n",
       "      <td>NaN</td>\n",
       "      <td>-0.422114</td>\n",
       "    </tr>\n",
       "    <tr>\n",
       "      <td>256</td>\n",
       "      <td>0.651</td>\n",
       "      <td>1.0</td>\n",
       "      <td>7.0</td>\n",
       "      <td>2018-07-19</td>\n",
       "      <td>en</td>\n",
       "      <td>Horror|Comedy|</td>\n",
       "      <td>NaN</td>\n",
       "      <td>69.0</td>\n",
       "      <td>ODDYSS3Y</td>\n",
       "      <td>US</td>\n",
       "      <td>4.000000e+00</td>\n",
       "      <td>3</td>\n",
       "      <td>7</td>\n",
       "      <td>3</td>\n",
       "      <td>en</td>\n",
       "      <td>Non_Collection</td>\n",
       "      <td>0.0</td>\n",
       "      <td>NaN</td>\n",
       "      <td>-0.422114</td>\n",
       "    </tr>\n",
       "    <tr>\n",
       "      <td>257</td>\n",
       "      <td>0.600</td>\n",
       "      <td>1.0</td>\n",
       "      <td>10.0</td>\n",
       "      <td>2018-05-10</td>\n",
       "      <td>en</td>\n",
       "      <td>na|</td>\n",
       "      <td>NaN</td>\n",
       "      <td>500.0</td>\n",
       "      <td>na</td>\n",
       "      <td>na</td>\n",
       "      <td>2.000000e+00</td>\n",
       "      <td>3</td>\n",
       "      <td>5</td>\n",
       "      <td>2</td>\n",
       "      <td>en</td>\n",
       "      <td>Non_Collection</td>\n",
       "      <td>0.0</td>\n",
       "      <td>NaN</td>\n",
       "      <td>-0.422114</td>\n",
       "    </tr>\n",
       "    <tr>\n",
       "      <td>258</td>\n",
       "      <td>0.645</td>\n",
       "      <td>1.0</td>\n",
       "      <td>10.0</td>\n",
       "      <td>2018-03-17</td>\n",
       "      <td>en</td>\n",
       "      <td>na|</td>\n",
       "      <td>NaN</td>\n",
       "      <td>14.0</td>\n",
       "      <td>na</td>\n",
       "      <td>na</td>\n",
       "      <td>1.000000e+00</td>\n",
       "      <td>5</td>\n",
       "      <td>3</td>\n",
       "      <td>1</td>\n",
       "      <td>en</td>\n",
       "      <td>Non_Collection</td>\n",
       "      <td>0.0</td>\n",
       "      <td>NaN</td>\n",
       "      <td>-0.422114</td>\n",
       "    </tr>\n",
       "    <tr>\n",
       "      <td>259</td>\n",
       "      <td>1.014</td>\n",
       "      <td>1.0</td>\n",
       "      <td>7.0</td>\n",
       "      <td>2018-02-08</td>\n",
       "      <td>en</td>\n",
       "      <td>Documentary|</td>\n",
       "      <td>NaN</td>\n",
       "      <td>10.0</td>\n",
       "      <td>na</td>\n",
       "      <td>na</td>\n",
       "      <td>1.000000e+00</td>\n",
       "      <td>3</td>\n",
       "      <td>2</td>\n",
       "      <td>1</td>\n",
       "      <td>en</td>\n",
       "      <td>Non_Collection</td>\n",
       "      <td>0.0</td>\n",
       "      <td>NaN</td>\n",
       "      <td>-0.422114</td>\n",
       "    </tr>\n",
       "  </tbody>\n",
       "</table>\n",
       "<p>260 rows × 19 columns</p>\n",
       "</div>"
      ],
      "text/plain": [
       "     popularity  vote_count_x  vote_average_x release_date  \\\n",
       "0        82.250       16683.0             8.3   2018-04-25   \n",
       "1        38.895       14192.0             7.4   2018-02-13   \n",
       "2        31.957        6878.0             6.5   2018-06-06   \n",
       "3        30.431        7607.0             7.5   2018-06-14   \n",
       "4        31.991        7849.0             6.8   2018-12-07   \n",
       "..          ...           ...             ...          ...   \n",
       "255       0.600           0.0             0.0   2018-02-12   \n",
       "256       0.651           1.0             7.0   2018-07-19   \n",
       "257       0.600           1.0            10.0   2018-05-10   \n",
       "258       0.645           1.0            10.0   2018-03-17   \n",
       "259       1.014           1.0             7.0   2018-02-08   \n",
       "\n",
       "    original_language_x                                  genre_ids  \\\n",
       "0                    en          Adventure|Action|Science Fiction|   \n",
       "1                    en  Adventure|Fantasy|Action|Science Fiction|   \n",
       "2                    en          Adventure|Action|Science Fiction|   \n",
       "3                    en         Adventure|Animation|Action|Family|   \n",
       "4                    en                  Adventure|Fantasy|Action|   \n",
       "..                  ...                                        ...   \n",
       "255                  en               Adventure|Crime|Documentary|   \n",
       "256                  en                             Horror|Comedy|   \n",
       "257                  en                                        na|   \n",
       "258                  en                                        na|   \n",
       "259                  en                               Documentary|   \n",
       "\n",
       "          belongs_to_collection       budget    production_companies  \\\n",
       "0       The Avengers Collection  300000000.0          Marvel Studios   \n",
       "1      Black Panther Collection  200000000.0          Marvel Studios   \n",
       "2      Jurassic Park Collection  170000000.0    Amblin Entertainment   \n",
       "3    The Incredibles Collection  200000000.0    Walt Disney Pictures   \n",
       "4            Aquaman Collection  160000000.0               DC Comics   \n",
       "..                          ...          ...                     ...   \n",
       "255                         NaN          5.0  Dale Dudes Productions   \n",
       "256                         NaN         69.0                ODDYSS3Y   \n",
       "257                         NaN        500.0                      na   \n",
       "258                         NaN         14.0                      na   \n",
       "259                         NaN         10.0                      na   \n",
       "\n",
       "    production_countries       revenue  day_of_week  month  quarter  \\\n",
       "0                     US  2.046240e+09            2      4        2   \n",
       "1                     US  1.346739e+09            1      2        1   \n",
       "2                     US  1.303460e+09            2      6        2   \n",
       "3                     US  1.241891e+09            3      6        2   \n",
       "4                     AU  1.143689e+09            4     12        4   \n",
       "..                   ...           ...          ...    ...      ...   \n",
       "255                   US  5.000000e+00            0      2        1   \n",
       "256                   US  4.000000e+00            3      7        3   \n",
       "257                   na  2.000000e+00            3      5        2   \n",
       "258                   na  1.000000e+00            5      3        1   \n",
       "259                   na  1.000000e+00            3      2        1   \n",
       "\n",
       "    en_int_lang      collection  profitable  log_revenue  revenue_norm  \n",
       "0            en      Collection         1.0     2.077842      7.987214  \n",
       "1            en      Collection         1.0     1.631691      5.112512  \n",
       "2            en      Collection         1.0     1.596281      4.934649  \n",
       "3            en      Collection         1.0     1.543645      4.681625  \n",
       "4            en      Collection         1.0     1.453497      4.278048  \n",
       "..          ...             ...         ...          ...           ...  \n",
       "255          en  Non_Collection         0.0          NaN     -0.422114  \n",
       "256          en  Non_Collection         0.0          NaN     -0.422114  \n",
       "257          en  Non_Collection         0.0          NaN     -0.422114  \n",
       "258          en  Non_Collection         0.0          NaN     -0.422114  \n",
       "259          en  Non_Collection         0.0          NaN     -0.422114  \n",
       "\n",
       "[260 rows x 19 columns]"
      ]
     },
     "execution_count": 53,
     "metadata": {},
     "output_type": "execute_result"
    }
   ],
   "source": [
    "df_revenue"
   ]
  },
  {
   "cell_type": "code",
   "execution_count": 54,
   "metadata": {},
   "outputs": [
    {
     "data": {
      "text/plain": [
       "True     212\n",
       "False     48\n",
       "Name: log_revenue, dtype: int64"
      ]
     },
     "execution_count": 54,
     "metadata": {},
     "output_type": "execute_result"
    }
   ],
   "source": [
    "df_revenue.log_revenue.isna().value_counts()"
   ]
  },
  {
   "cell_type": "code",
   "execution_count": 55,
   "metadata": {},
   "outputs": [
    {
     "data": {
      "text/plain": [
       "<matplotlib.axes._subplots.AxesSubplot at 0x1c198fa7d0>"
      ]
     },
     "execution_count": 55,
     "metadata": {},
     "output_type": "execute_result"
    },
    {
     "data": {
      "image/png": "[encoded data removed]",
      "text/plain": [
       "<Figure size 432x288 with 1 Axes>"
      ]
     },
     "metadata": {
      "needs_background": "light"
     },
     "output_type": "display_data"
    }
   ],
   "source": [
    "df_norm = df_revenue.loc[df_revenue.log_revenue.notnull()]\n",
    "\n",
    "sns.distplot(df_norm['log_revenue'])"
   ]
  },
  {
   "cell_type": "code",
   "execution_count": 109,
   "metadata": {},
   "outputs": [
    {
     "data": {
      "image/png": "[encoded data removed]",
      "text/plain": [
       "<Figure size 432x288 with 1 Axes>"
      ]
     },
     "metadata": {
      "needs_background": "light"
     },
     "output_type": "display_data"
    }
   ],
   "source": [
    "sm.qqplot(df_norm['log_revenue'])\n",
    "\n",
    "pylab.show()"
   ]
  },
  {
   "cell_type": "code",
   "execution_count": 56,
   "metadata": {},
   "outputs": [
    {
     "data": {
      "text/plain": [
       "NormaltestResult(statistic=8.285313020025747, pvalue=0.015880608424481607)"
      ]
     },
     "execution_count": 56,
     "metadata": {},
     "output_type": "execute_result"
    }
   ],
   "source": [
    "stats.normaltest(df_norm['log_revenue'])"
   ]
  },
  {
   "cell_type": "code",
   "execution_count": 57,
   "metadata": {},
   "outputs": [
    {
     "name": "stdout",
     "output_type": "stream",
     "text": [
      "<class 'pandas.core.frame.DataFrame'>\n",
      "Int64Index: 48 entries, 0 to 47\n",
      "Data columns (total 19 columns):\n",
      "popularity               48 non-null float64\n",
      "vote_count_x             48 non-null float64\n",
      "vote_average_x           48 non-null float64\n",
      "release_date             48 non-null object\n",
      "original_language_x      48 non-null object\n",
      "genre_ids                48 non-null object\n",
      "belongs_to_collection    30 non-null object\n",
      "budget                   48 non-null float64\n",
      "production_companies     48 non-null object\n",
      "production_countries     48 non-null object\n",
      "revenue                  48 non-null float64\n",
      "day_of_week              48 non-null int64\n",
      "month                    48 non-null int64\n",
      "quarter                  48 non-null int64\n",
      "en_int_lang              48 non-null object\n",
      "collection               48 non-null object\n",
      "profitable               48 non-null float64\n",
      "log_revenue              48 non-null float64\n",
      "revenue_norm             48 non-null float64\n",
      "dtypes: float64(8), int64(3), object(8)\n",
      "memory usage: 7.5+ KB\n"
     ]
    }
   ],
   "source": [
    "df_norm.info() "
   ]
  },
  {
   "cell_type": "code",
   "execution_count": 58,
   "metadata": {},
   "outputs": [],
   "source": [
    "x = df['revenue'].values"
   ]
  },
  {
   "cell_type": "code",
   "execution_count": 59,
   "metadata": {},
   "outputs": [],
   "source": [
    "min_max_scaler = preprocessing.MinMaxScaler()"
   ]
  },
  {
   "cell_type": "code",
   "execution_count": 60,
   "metadata": {},
   "outputs": [
    {
     "name": "stderr",
     "output_type": "stream",
     "text": [
      "/Users/apple/opt/anaconda3/lib/python3.7/site-packages/ipykernel_launcher.py:2: SettingWithCopyWarning: \n",
      "A value is trying to be set on a copy of a slice from a DataFrame.\n",
      "Try using .loc[row_indexer,col_indexer] = value instead\n",
      "\n",
      "See the caveats in the documentation: http://pandas.pydata.org/pandas-docs/stable/user_guide/indexing.html#returning-a-view-versus-a-copy\n",
      "  \n"
     ]
    }
   ],
   "source": [
    "scaler=MinMaxScaler(feature_range=(1,10))\n",
    "df_norm['test'] = scaler.fit_transform(df_norm[['revenue']])"
   ]
  },
  {
   "cell_type": "code",
   "execution_count": 61,
   "metadata": {},
   "outputs": [
    {
     "name": "stderr",
     "output_type": "stream",
     "text": [
      "/Users/apple/opt/anaconda3/lib/python3.7/site-packages/ipykernel_launcher.py:1: SettingWithCopyWarning: \n",
      "A value is trying to be set on a copy of a slice from a DataFrame.\n",
      "Try using .loc[row_indexer,col_indexer] = value instead\n",
      "\n",
      "See the caveats in the documentation: http://pandas.pydata.org/pandas-docs/stable/user_guide/indexing.html#returning-a-view-versus-a-copy\n",
      "  \"\"\"Entry point for launching an IPython kernel.\n"
     ]
    }
   ],
   "source": [
    "df_norm['test_log'] = df_norm.test.apply(np.log)"
   ]
  },
  {
   "cell_type": "code",
   "execution_count": 62,
   "metadata": {},
   "outputs": [
    {
     "data": {
      "text/plain": [
       "<matplotlib.axes._subplots.AxesSubplot at 0x1c1936ca10>"
      ]
     },
     "execution_count": 62,
     "metadata": {},
     "output_type": "execute_result"
    },
    {
     "data": {
      "image/png": "[encoded data removed]",
      "text/plain": [
       "<Figure size 432x288 with 1 Axes>"
      ]
     },
     "metadata": {
      "needs_background": "light"
     },
     "output_type": "display_data"
    }
   ],
   "source": [
    "sns.distplot(df_norm.test_log)"
   ]
  },
  {
   "cell_type": "code",
   "execution_count": null,
   "metadata": {},
   "outputs": [],
   "source": []
  },
  {
   "cell_type": "code",
   "execution_count": 63,
   "metadata": {},
   "outputs": [
    {
     "data": {
      "text/plain": [
       "(0.9445104598999023, 0.0242781899869442)"
      ]
     },
     "execution_count": 63,
     "metadata": {},
     "output_type": "execute_result"
    }
   ],
   "source": [
    "stats.shapiro(df_norm.test_log)"
   ]
  },
  {
   "cell_type": "code",
   "execution_count": 64,
   "metadata": {},
   "outputs": [
    {
     "data": {
      "text/plain": [
       "0          Collection\n",
       "1          Collection\n",
       "2          Collection\n",
       "3          Collection\n",
       "4          Collection\n",
       "            ...      \n",
       "255    Non_Collection\n",
       "256    Non_Collection\n",
       "257    Non_Collection\n",
       "258    Non_Collection\n",
       "259    Non_Collection\n",
       "Name: collection, Length: 260, dtype: object"
      ]
     },
     "execution_count": 64,
     "metadata": {},
     "output_type": "execute_result"
    }
   ],
   "source": [
    "# df_revenue.loc[df_revenue.collection == 'Collection', 'collection'] = 1\n",
    "# df_revenue.loc[df_revenue.collection != 'Collection', 'collection'] = 0\n",
    "\n",
    "# df_revenue.collection"
   ]
  },
  {
   "cell_type": "code",
   "execution_count": 69,
   "metadata": {},
   "outputs": [
    {
     "name": "stdout",
     "output_type": "stream",
     "text": [
      "Statistics=4902.500, p=0.000\n",
      "Different distribution (reject H0)\n"
     ]
    }
   ],
   "source": [
    "data1 = df_profitable['budget']\n",
    "data2 = df_not_profitable['budget']\n",
    "\n",
    "stat, p = mannwhitneyu(data1, data2)\n",
    "print('Statistics=%.3f, p=%.3f' % (stat, p))\n",
    "# interpret\n",
    "alpha = 0.05\n",
    "if p > alpha:\n",
    "\tprint('Same distribution (fail to reject H0)')\n",
    "else:\n",
    "\tprint('Different distribution (reject H0)')\n",
    "\n"
   ]
  },
  {
   "cell_type": "code",
   "execution_count": 84,
   "metadata": {},
   "outputs": [
    {
     "data": {
      "text/html": [
       "<div>\n",
       "<style scoped>\n",
       "    .dataframe tbody tr th:only-of-type {\n",
       "        vertical-align: middle;\n",
       "    }\n",
       "\n",
       "    .dataframe tbody tr th {\n",
       "        vertical-align: top;\n",
       "    }\n",
       "\n",
       "    .dataframe thead th {\n",
       "        text-align: right;\n",
       "    }\n",
       "</style>\n",
       "<table border=\"1\" class=\"dataframe\">\n",
       "  <thead>\n",
       "    <tr style=\"text-align: right;\">\n",
       "      <th></th>\n",
       "      <th>count</th>\n",
       "      <th>mean</th>\n",
       "      <th>std</th>\n",
       "      <th>min</th>\n",
       "      <th>25%</th>\n",
       "      <th>50%</th>\n",
       "      <th>75%</th>\n",
       "      <th>max</th>\n",
       "    </tr>\n",
       "    <tr>\n",
       "      <th>month</th>\n",
       "      <th></th>\n",
       "      <th></th>\n",
       "      <th></th>\n",
       "      <th></th>\n",
       "      <th></th>\n",
       "      <th></th>\n",
       "      <th></th>\n",
       "      <th></th>\n",
       "    </tr>\n",
       "  </thead>\n",
       "  <tbody>\n",
       "    <tr>\n",
       "      <td>1</td>\n",
       "      <td>28.0</td>\n",
       "      <td>1.249650e+07</td>\n",
       "      <td>1.879810e+07</td>\n",
       "      <td>1.0</td>\n",
       "      <td>9749.0</td>\n",
       "      <td>1852617.5</td>\n",
       "      <td>18000000.0</td>\n",
       "      <td>62000000.0</td>\n",
       "    </tr>\n",
       "    <tr>\n",
       "      <td>2</td>\n",
       "      <td>24.0</td>\n",
       "      <td>2.402409e+07</td>\n",
       "      <td>4.367318e+07</td>\n",
       "      <td>5.0</td>\n",
       "      <td>10000.0</td>\n",
       "      <td>4200000.0</td>\n",
       "      <td>35500000.0</td>\n",
       "      <td>200000000.0</td>\n",
       "    </tr>\n",
       "    <tr>\n",
       "      <td>3</td>\n",
       "      <td>25.0</td>\n",
       "      <td>2.970037e+07</td>\n",
       "      <td>4.995467e+07</td>\n",
       "      <td>10.0</td>\n",
       "      <td>10000.0</td>\n",
       "      <td>2900000.0</td>\n",
       "      <td>30000000.0</td>\n",
       "      <td>175000000.0</td>\n",
       "    </tr>\n",
       "    <tr>\n",
       "      <td>4</td>\n",
       "      <td>16.0</td>\n",
       "      <td>3.445646e+07</td>\n",
       "      <td>7.678598e+07</td>\n",
       "      <td>10.0</td>\n",
       "      <td>78361.0</td>\n",
       "      <td>6000000.0</td>\n",
       "      <td>20750000.0</td>\n",
       "      <td>300000000.0</td>\n",
       "    </tr>\n",
       "    <tr>\n",
       "      <td>5</td>\n",
       "      <td>18.0</td>\n",
       "      <td>2.848592e+07</td>\n",
       "      <td>6.107978e+07</td>\n",
       "      <td>5.0</td>\n",
       "      <td>875750.0</td>\n",
       "      <td>6540000.0</td>\n",
       "      <td>24000000.0</td>\n",
       "      <td>250000000.0</td>\n",
       "    </tr>\n",
       "    <tr>\n",
       "      <td>6</td>\n",
       "      <td>23.0</td>\n",
       "      <td>3.005174e+07</td>\n",
       "      <td>5.336522e+07</td>\n",
       "      <td>100.0</td>\n",
       "      <td>2212356.5</td>\n",
       "      <td>10000000.0</td>\n",
       "      <td>20459309.0</td>\n",
       "      <td>200000000.0</td>\n",
       "    </tr>\n",
       "    <tr>\n",
       "      <td>7</td>\n",
       "      <td>16.0</td>\n",
       "      <td>4.131244e+07</td>\n",
       "      <td>5.816157e+07</td>\n",
       "      <td>40.0</td>\n",
       "      <td>1375000.0</td>\n",
       "      <td>11500000.0</td>\n",
       "      <td>65250000.0</td>\n",
       "      <td>178000000.0</td>\n",
       "    </tr>\n",
       "    <tr>\n",
       "      <td>8</td>\n",
       "      <td>20.0</td>\n",
       "      <td>2.472093e+07</td>\n",
       "      <td>3.622021e+07</td>\n",
       "      <td>127.0</td>\n",
       "      <td>435201.0</td>\n",
       "      <td>14150000.0</td>\n",
       "      <td>32500000.0</td>\n",
       "      <td>150000000.0</td>\n",
       "    </tr>\n",
       "    <tr>\n",
       "      <td>9</td>\n",
       "      <td>20.0</td>\n",
       "      <td>2.375213e+07</td>\n",
       "      <td>3.028710e+07</td>\n",
       "      <td>1508.0</td>\n",
       "      <td>4888175.0</td>\n",
       "      <td>11652500.0</td>\n",
       "      <td>29000000.0</td>\n",
       "      <td>116000000.0</td>\n",
       "    </tr>\n",
       "    <tr>\n",
       "      <td>10</td>\n",
       "      <td>31.0</td>\n",
       "      <td>1.830831e+07</td>\n",
       "      <td>2.613113e+07</td>\n",
       "      <td>9.0</td>\n",
       "      <td>150000.0</td>\n",
       "      <td>7120949.0</td>\n",
       "      <td>27500000.0</td>\n",
       "      <td>120000000.0</td>\n",
       "    </tr>\n",
       "    <tr>\n",
       "      <td>11</td>\n",
       "      <td>21.0</td>\n",
       "      <td>4.674758e+07</td>\n",
       "      <td>5.721299e+07</td>\n",
       "      <td>52.0</td>\n",
       "      <td>3500000.0</td>\n",
       "      <td>23000000.0</td>\n",
       "      <td>75000000.0</td>\n",
       "      <td>200000000.0</td>\n",
       "    </tr>\n",
       "    <tr>\n",
       "      <td>12</td>\n",
       "      <td>18.0</td>\n",
       "      <td>4.150103e+07</td>\n",
       "      <td>5.312967e+07</td>\n",
       "      <td>50.0</td>\n",
       "      <td>5824.0</td>\n",
       "      <td>18500000.0</td>\n",
       "      <td>57500000.0</td>\n",
       "      <td>160000000.0</td>\n",
       "    </tr>\n",
       "  </tbody>\n",
       "</table>\n",
       "</div>"
      ],
      "text/plain": [
       "       count          mean           std     min        25%         50%  \\\n",
       "month                                                                     \n",
       "1       28.0  1.249650e+07  1.879810e+07     1.0     9749.0   1852617.5   \n",
       "2       24.0  2.402409e+07  4.367318e+07     5.0    10000.0   4200000.0   \n",
       "3       25.0  2.970037e+07  4.995467e+07    10.0    10000.0   2900000.0   \n",
       "4       16.0  3.445646e+07  7.678598e+07    10.0    78361.0   6000000.0   \n",
       "5       18.0  2.848592e+07  6.107978e+07     5.0   875750.0   6540000.0   \n",
       "6       23.0  3.005174e+07  5.336522e+07   100.0  2212356.5  10000000.0   \n",
       "7       16.0  4.131244e+07  5.816157e+07    40.0  1375000.0  11500000.0   \n",
       "8       20.0  2.472093e+07  3.622021e+07   127.0   435201.0  14150000.0   \n",
       "9       20.0  2.375213e+07  3.028710e+07  1508.0  4888175.0  11652500.0   \n",
       "10      31.0  1.830831e+07  2.613113e+07     9.0   150000.0   7120949.0   \n",
       "11      21.0  4.674758e+07  5.721299e+07    52.0  3500000.0  23000000.0   \n",
       "12      18.0  4.150103e+07  5.312967e+07    50.0     5824.0  18500000.0   \n",
       "\n",
       "              75%          max  \n",
       "month                           \n",
       "1      18000000.0   62000000.0  \n",
       "2      35500000.0  200000000.0  \n",
       "3      30000000.0  175000000.0  \n",
       "4      20750000.0  300000000.0  \n",
       "5      24000000.0  250000000.0  \n",
       "6      20459309.0  200000000.0  \n",
       "7      65250000.0  178000000.0  \n",
       "8      32500000.0  150000000.0  \n",
       "9      29000000.0  116000000.0  \n",
       "10     27500000.0  120000000.0  \n",
       "11     75000000.0  200000000.0  \n",
       "12     57500000.0  160000000.0  "
      ]
     },
     "execution_count": 84,
     "metadata": {},
     "output_type": "execute_result"
    }
   ],
   "source": [
    "\n",
    "# # compare samples\n",
    "# stat, p = kruskal(data1, data2, data3)\n",
    "# print('Statistics=%.3f, p=%.3f' % (stat, p))\n",
    "# # interpret\n",
    "# alpha = 0.05\n",
    "# if p > alpha:\n",
    "# \tprint('Same distributions (fail to reject H0)')\n",
    "# else:\n",
    "# \tprint('Different distributions (reject H0)')\n",
    "\n",
    "\n",
    "df_revenue.groupby('month')['budget'].describe()"
   ]
  },
  {
   "cell_type": "code",
   "execution_count": 90,
   "metadata": {},
   "outputs": [],
   "source": [
    "mc = MultiComparison(df_revenue['revenue'], df_revenue['month'])"
   ]
  },
  {
   "cell_type": "code",
   "execution_count": 100,
   "metadata": {},
   "outputs": [],
   "source": [
    "data1 = df_revenue['revenue'][df_revenue['quarter'] == 1]\n",
    "data2 = df_revenue['revenue'][df_revenue['quarter'] == 2]\n",
    "data3 = df_revenue['revenue'][df_revenue['quarter'] == 3]\n",
    "data4 = df_revenue['revenue'][df_revenue['quarter'] == 4]"
   ]
  },
  {
   "cell_type": "code",
   "execution_count": 101,
   "metadata": {},
   "outputs": [
    {
     "name": "stdout",
     "output_type": "stream",
     "text": [
      "Statistics=3.710, p=0.294\n",
      "Same distributions (fail to reject H0)\n"
     ]
    }
   ],
   "source": [
    "\n",
    "stat, p = kruskal(data1, data2, data3, data4)\n",
    "print('Statistics=%.3f, p=%.3f' % (stat, p))\n",
    "# interpret\n",
    "alpha = 0.05\n",
    "if p > alpha:\n",
    "\tprint('Same distributions (fail to reject H0)')\n",
    "else:\n",
    "\tprint('Different distributions (reject H0)')"
   ]
  },
  {
   "cell_type": "code",
   "execution_count": 106,
   "metadata": {},
   "outputs": [],
   "source": [
    "data1 = df_revenue['revenue'][df_revenue['month'] == 1]\n",
    "data2 = df_revenue['revenue'][df_revenue['month'] == 2]\n",
    "data3 = df_revenue['revenue'][df_revenue['month'] == 3]\n",
    "data4 = df_revenue['revenue'][df_revenue['month'] == 4]\n",
    "data5 = df_revenue['revenue'][df_revenue['month'] == 5]\n",
    "data6 = df_revenue['revenue'][df_revenue['month'] == 6]\n",
    "data7 = df_revenue['revenue'][df_revenue['month'] == 7]\n",
    "data8 = df_revenue['revenue'][df_revenue['month'] == 8]\n",
    "data9 = df_revenue['revenue'][df_revenue['month'] == 9]\n",
    "data10 = df_revenue['revenue'][df_revenue['month'] == 10]\n",
    "data11 = df_revenue['revenue'][df_revenue['month'] == 11]\n",
    "data12 = df_revenue['revenue'][df_revenue['month'] == 12]"
   ]
  },
  {
   "cell_type": "code",
   "execution_count": 111,
   "metadata": {},
   "outputs": [
    {
     "name": "stdout",
     "output_type": "stream",
     "text": [
      "Statistics=9.011, p=0.621\n",
      "Same distributions (fail to reject H0)\n"
     ]
    }
   ],
   "source": [
    "stat, p = kruskal(data1, data2, data3, data4, data5, data6, data7, data8, data9, data10, data11, data12)\n",
    "print('Statistics=%.3f, p=%.3f' % (stat, p))\n",
    "# interpret\n",
    "alpha = 0.05\n",
    "if p > alpha:\n",
    "\tprint('Same distributions (fail to reject H0)')\n",
    "else:\n",
    "\tprint('Different distributions (reject H0)')"
   ]
  },
  {
   "cell_type": "code",
   "execution_count": null,
   "metadata": {},
   "outputs": [],
   "source": [
    "data1 = df_revenue['revenue'][df_revenue['day_of_week'] == 0]\n",
    "data2 = df_revenue['revenue'][df_revenue['day_of_week'] == 1]\n",
    "data3 = df_revenue['revenue'][df_revenue['day_of_week'] == 2]\n",
    "data4 = df_revenue['revenue'][df_revenue['day_of_week'] == 3]\n",
    "data5 = df_revenue['revenue'][df_revenue['day_of_week'] == 4]\n",
    "data6 = df_revenue['revenue'][df_revenue['day_of_week'] == 5]\n",
    "data7 = df_revenue['revenue'][df_revenue['day_of_week'] == 6]"
   ]
  },
  {
   "cell_type": "code",
   "execution_count": 118,
   "metadata": {},
   "outputs": [
    {
     "name": "stdout",
     "output_type": "stream",
     "text": [
      "Statistics=3.207, p=0.782\n",
      "Same distributions (fail to reject H0)\n"
     ]
    }
   ],
   "source": [
    "stat, p = kruskal(data1, data2, data3, data4, data5, data6, data7)\n",
    "print('Statistics=%.3f, p=%.3f' % (stat, p))\n",
    "# interpret\n",
    "alpha = 0.05\n",
    "if p > alpha:\n",
    "\tprint('Same distributions (fail to reject H0)')\n",
    "else:\n",
    "\tprint('Different distributions (reject H0)')"
   ]
  },
  {
   "cell_type": "code",
   "execution_count": 221,
   "metadata": {},
   "outputs": [
    {
     "name": "stdout",
     "output_type": "stream",
     "text": [
      "                   df        sum_sq       mean_sq          F        PR(>F)\n",
      "C(month)         11.0  4.770442e+17  4.336765e+16   0.746546  6.930330e-01\n",
      "C(quarter)        3.0  4.040794e+18  1.346931e+18  23.186539  3.153860e-13\n",
      "C(day_of_week)    6.0  7.261070e+17  1.210178e+17   2.083243  5.585634e-02\n",
      "Residual        242.0  1.405804e+19  5.809108e+16        NaN           NaN\n"
     ]
    }
   ],
   "source": [
    "formula = 'revenue ~ C(month) + C(quarter) + C(day_of_week)'\n",
    "lm = ols(formula, df_revenue).fit()\n",
    "table = sm.stats.anova_lm(lm)\n",
    "print(table)\n"
   ]
  },
  {
   "cell_type": "code",
   "execution_count": 144,
   "metadata": {},
   "outputs": [
    {
     "data": {
      "text/html": [
       "<div>\n",
       "<style scoped>\n",
       "    .dataframe tbody tr th:only-of-type {\n",
       "        vertical-align: middle;\n",
       "    }\n",
       "\n",
       "    .dataframe tbody tr th {\n",
       "        vertical-align: top;\n",
       "    }\n",
       "\n",
       "    .dataframe thead th {\n",
       "        text-align: right;\n",
       "    }\n",
       "</style>\n",
       "<table border=\"1\" class=\"dataframe\">\n",
       "  <thead>\n",
       "    <tr style=\"text-align: right;\">\n",
       "      <th></th>\n",
       "      <th>sum_sq</th>\n",
       "      <th>df</th>\n",
       "      <th>mean_sq</th>\n",
       "      <th>F</th>\n",
       "      <th>PR(&gt;F)</th>\n",
       "      <th>eta_sq</th>\n",
       "      <th>omega_sq</th>\n",
       "    </tr>\n",
       "  </thead>\n",
       "  <tbody>\n",
       "    <tr>\n",
       "      <td>C(month)</td>\n",
       "      <td>5.651650e+17</td>\n",
       "      <td>11.0</td>\n",
       "      <td>5.137864e+16</td>\n",
       "      <td>0.884450</td>\n",
       "      <td>0.556238</td>\n",
       "      <td>0.036224</td>\n",
       "      <td>-0.004715</td>\n",
       "    </tr>\n",
       "    <tr>\n",
       "      <td>C(quarter)</td>\n",
       "      <td>1.786888e+17</td>\n",
       "      <td>3.0</td>\n",
       "      <td>5.956294e+16</td>\n",
       "      <td>1.025337</td>\n",
       "      <td>0.382025</td>\n",
       "      <td>0.011453</td>\n",
       "      <td>0.000282</td>\n",
       "    </tr>\n",
       "    <tr>\n",
       "      <td>C(day_of_week)</td>\n",
       "      <td>8.001392e+17</td>\n",
       "      <td>6.0</td>\n",
       "      <td>1.333565e+17</td>\n",
       "      <td>2.295645</td>\n",
       "      <td>0.035668</td>\n",
       "      <td>0.051284</td>\n",
       "      <td>0.028837</td>\n",
       "    </tr>\n",
       "    <tr>\n",
       "      <td>Residual</td>\n",
       "      <td>1.405804e+19</td>\n",
       "      <td>242.0</td>\n",
       "      <td>5.809108e+16</td>\n",
       "      <td>NaN</td>\n",
       "      <td>NaN</td>\n",
       "      <td>NaN</td>\n",
       "      <td>NaN</td>\n",
       "    </tr>\n",
       "  </tbody>\n",
       "</table>\n",
       "</div>"
      ],
      "text/plain": [
       "                      sum_sq     df       mean_sq         F    PR(>F)  \\\n",
       "C(month)        5.651650e+17   11.0  5.137864e+16  0.884450  0.556238   \n",
       "C(quarter)      1.786888e+17    3.0  5.956294e+16  1.025337  0.382025   \n",
       "C(day_of_week)  8.001392e+17    6.0  1.333565e+17  2.295645  0.035668   \n",
       "Residual        1.405804e+19  242.0  5.809108e+16       NaN       NaN   \n",
       "\n",
       "                  eta_sq  omega_sq  \n",
       "C(month)        0.036224 -0.004715  \n",
       "C(quarter)      0.011453  0.000282  \n",
       "C(day_of_week)  0.051284  0.028837  \n",
       "Residual             NaN       NaN  "
      ]
     },
     "execution_count": 144,
     "metadata": {},
     "output_type": "execute_result"
    }
   ],
   "source": [
    "table = sm.stats.anova_lm(lm, typ=2)\n",
    "\n",
    "\n",
    "def anova_table(aov):\n",
    "    aov['mean_sq'] = aov[:]['sum_sq']/aov[:]['df']\n",
    "    \n",
    "    aov['eta_sq'] = aov[:-1]['sum_sq']/sum(aov['sum_sq'])\n",
    "    \n",
    "    aov['omega_sq'] = (aov[:-1]['sum_sq']-(aov[:-1]['df']*aov['mean_sq'][-1]))/(sum(aov['sum_sq'])+aov['mean_sq'][-1])\n",
    "    \n",
    "    cols = ['sum_sq', 'df', 'mean_sq', 'F', 'PR(>F)', 'eta_sq', 'omega_sq']\n",
    "    aov=aov[cols]\n",
    "    \n",
    "    return aov\n",
    "\n",
    "anova_table(table)\n",
    "    "
   ]
  },
  {
   "cell_type": "code",
   "execution_count": 123,
   "metadata": {
    "scrolled": true
   },
   "outputs": [
    {
     "name": "stdout",
     "output_type": "stream",
     "text": [
      "           Multiple Comparison of Means - Tukey HSD, FWER=0.05            \n",
      "==========================================================================\n",
      "group1 group2     meandiff    p-adj       lower          upper      reject\n",
      "--------------------------------------------------------------------------\n",
      "     0      1  108854065.4965 0.8373 -141115868.9013 358823999.8943  False\n",
      "     0      2  163135783.9147 0.2991   -57226977.549 383498545.3784  False\n",
      "     0      3   74601717.2185    0.9 -141444902.2976 290648336.7346  False\n",
      "     0      4   38991655.0463    0.9 -174146727.0564 252130037.1491  False\n",
      "     0      5   35165058.9692    0.9 -265393439.5442 335723557.4827  False\n",
      "     0      6  -14346627.9808    0.9 -335438822.4821 306745566.5206  False\n",
      "     1      2   54281718.4182    0.9 -125974164.7409 234537601.5773  False\n",
      "     1      3   -34252348.278    0.9  -209205423.638  140700727.082  False\n",
      "     1      4  -69862410.4502 0.8855 -241211197.1366 101486376.2363  False\n",
      "     1      5  -73689006.5273    0.9 -346210286.0675 198832273.0129  False\n",
      "     1      6 -123200693.4773 0.8683 -418213632.4193 171812245.4648  False\n",
      "     2      3  -88534066.6962 0.3957 -217698137.2227  40630003.8304  False\n",
      "     2      4 -124144128.8683 0.0503 -248382549.8017      94292.065  False\n",
      "     2      5 -127970724.9455 0.6891 -373618086.7048 117676636.8139  False\n",
      "     2      6 -177482411.8955 0.4508 -447866236.6341  92901412.8432  False\n",
      "     3      4  -35610062.1722    0.9 -152021317.6436  80801193.2993  False\n",
      "     3      5  -39436658.2493    0.9 -281219663.2429 202346346.7443  False\n",
      "     3      6  -88948345.1993    0.9 -355826234.5883 177929544.1898  False\n",
      "     4      5   -3826596.0771    0.9 -243014492.1437 235361299.9895  False\n",
      "     4      6  -53338283.0271    0.9 -317867366.4296 211190800.3754  False\n",
      "     5      6    -49511686.95    0.9 -388455748.8084 289432374.9084  False\n",
      "--------------------------------------------------------------------------\n"
     ]
    }
   ],
   "source": [
    "mc = MultiComparison(df_revenue['revenue'], df_revenue['day_of_week'])\n",
    "mc_results = mc.tukeyhsd()\n",
    "print(mc_results)"
   ]
  },
  {
   "cell_type": "code",
   "execution_count": 138,
   "metadata": {},
   "outputs": [],
   "source": [
    "df_long_weekend = df_revenue[(df_revenue['day_of_week'] == 4) | (df_revenue['day_of_week'] == 5) |(df_revenue['day_of_week'] == 6)]"
   ]
  },
  {
   "cell_type": "code",
   "execution_count": 139,
   "metadata": {},
   "outputs": [],
   "source": [
    "df_not_weekend = df_revenue[(df_revenue['day_of_week'] != 4) & (df_revenue['day_of_week'] != 5) &(df_revenue['day_of_week'] != 6)]"
   ]
  },
  {
   "cell_type": "code",
   "execution_count": 140,
   "metadata": {},
   "outputs": [
    {
     "data": {
      "text/plain": [
       "3    69\n",
       "2    55\n",
       "1    22\n",
       "0    13\n",
       "Name: day_of_week, dtype: int64"
      ]
     },
     "execution_count": 140,
     "metadata": {},
     "output_type": "execute_result"
    }
   ],
   "source": [
    "df_not_weekend.day_of_week.value_counts()"
   ]
  },
  {
   "cell_type": "code",
   "execution_count": 141,
   "metadata": {},
   "outputs": [
    {
     "name": "stdout",
     "output_type": "stream",
     "text": [
      "\n",
      " Welch's t-test= 2.4862 \n",
      " p-value = 0.01354605 \n",
      " Welch-Satterthwaite Degrees of Freedom= 257.9901\n"
     ]
    }
   ],
   "source": [
    "welch_ttest(df_not_weekend['revenue'], df_long_weekend['revenue'])"
   ]
  },
  {
   "cell_type": "code",
   "execution_count": 147,
   "metadata": {},
   "outputs": [
    {
     "data": {
      "text/plain": [
       "<matplotlib.axes._subplots.AxesSubplot at 0x1c1c55a7d0>"
      ]
     },
     "execution_count": 147,
     "metadata": {},
     "output_type": "execute_result"
    },
    {
     "data": {
      "image/png": "[encoded data removed]",
      "text/plain": [
       "<Figure size 1080x576 with 1 Axes>"
      ]
     },
     "metadata": {
      "needs_background": "light"
     },
     "output_type": "display_data"
    }
   ],
   "source": [
    "plt.figure(figsize=(15,8))\n",
    "plt.ylim(top=400000000)\n",
    "plt.ticklabel_format(style='plain')\n",
    "sns.boxplot(x=\"month\", y=\"revenue\", data=df_revenue)"
   ]
  },
  {
   "cell_type": "code",
   "execution_count": 149,
   "metadata": {},
   "outputs": [
    {
     "data": {
      "text/plain": [
       "<matplotlib.axes._subplots.AxesSubplot at 0x1c1981c050>"
      ]
     },
     "execution_count": 149,
     "metadata": {},
     "output_type": "execute_result"
    },
    {
     "data": {
      "image/png": "[encoded data removed]",
      "text/plain": [
       "<Figure size 1080x576 with 1 Axes>"
      ]
     },
     "metadata": {
      "needs_background": "light"
     },
     "output_type": "display_data"
    }
   ],
   "source": [
    "plt.figure(figsize=(15,8))\n",
    "plt.ylim(top=200000000)\n",
    "plt.ticklabel_format(style='plain')\n",
    "sns.boxplot(x=\"quarter\", y=\"revenue\", data=df_revenue)"
   ]
  },
  {
   "cell_type": "code",
   "execution_count": 153,
   "metadata": {},
   "outputs": [
    {
     "data": {
      "text/plain": [
       "<matplotlib.axes._subplots.AxesSubplot at 0x1c1c0f8490>"
      ]
     },
     "execution_count": 153,
     "metadata": {},
     "output_type": "execute_result"
    },
    {
     "data": {
      "image/png": "[encoded data removed]",
      "text/plain": [
       "<Figure size 1080x576 with 1 Axes>"
      ]
     },
     "metadata": {
      "needs_background": "light"
     },
     "output_type": "display_data"
    }
   ],
   "source": [
    "plt.figure(figsize=(15,8))\n",
    "plt.ylim(top=500000000)\n",
    "plt.ticklabel_format(style='plain')\n",
    "sns.boxplot(x=\"day_of_week\", y=\"revenue\", data=df_revenue)"
   ]
  },
  {
   "cell_type": "code",
   "execution_count": 154,
   "metadata": {},
   "outputs": [
    {
     "name": "stdout",
     "output_type": "stream",
     "text": [
      "Statistics=15.824, p=0.003\n",
      "Different distributions (reject H0)\n"
     ]
    }
   ],
   "source": [
    "\n",
    "data2 = df_revenue['revenue'][df_revenue['day_of_week'] == 1]\n",
    "data3 = df_revenue['revenue'][df_revenue['day_of_week'] == 2]\n",
    "data4 = df_revenue['revenue'][df_revenue['day_of_week'] == 3]\n",
    "data5 = df_revenue['revenue'][df_revenue['day_of_week'] == 4]\n",
    "data6 = df_revenue['revenue'][df_revenue['day_of_week'] == 5]\n",
    "\n",
    "stat, p = kruskal(data2, data3, data4, data5, data6)\n",
    "print('Statistics=%.3f, p=%.3f' % (stat, p))\n",
    "# interpret\n",
    "alpha = 0.05\n",
    "if p > alpha:\n",
    "\tprint('Same distributions (fail to reject H0)')\n",
    "else:\n",
    "\tprint('Different distributions (reject H0)')"
   ]
  },
  {
   "cell_type": "code",
   "execution_count": 160,
   "metadata": {},
   "outputs": [],
   "source": [
    "from scipy.stats import chisquare\n",
    "import numpy as np\n",
    "from scipy import stats\n",
    "from itertools import combinations\n",
    "from statsmodels.stats.multitest import multipletests\n",
    "from statsmodels.stats.libqsturng import psturng\n",
    "\n",
    "import warnings\n",
    "\n",
    "\n",
    "def kw_dunn(groups, to_compare=None, alpha=0.05, method='bonf'):\n",
    "    \"\"\"\n",
    "    Kruskal-Wallis 1-way ANOVA with Dunn's multiple comparison test\n",
    "    Arguments:\n",
    "    ---------------\n",
    "    groups: sequence\n",
    "        arrays corresponding to k mutually independent samples from\n",
    "        continuous populations\n",
    "    to_compare: sequence\n",
    "        tuples specifying the indices of pairs of groups to compare, e.g.\n",
    "        [(0, 1), (0, 2)] would compare group 0 with 1 & 2. by default, all\n",
    "        possible pairwise comparisons between groups are performed.\n",
    "    alpha: float\n",
    "        family-wise error rate used for correcting for multiple comparisons\n",
    "        (see statsmodels.stats.multitest.multipletests for details)\n",
    "    method: string\n",
    "        method used to adjust p-values to account for multiple corrections (see\n",
    "        statsmodels.stats.multitest.multipletests for options)\n",
    "    Returns:\n",
    "    ---------------\n",
    "    H: float\n",
    "        Kruskal-Wallis H-statistic\n",
    "    p_omnibus: float\n",
    "        p-value corresponding to the global null hypothesis that the medians of\n",
    "        the groups are all equal\n",
    "    Z_pairs: float array\n",
    "        Z-scores computed for the absolute difference in mean ranks for each\n",
    "        pairwise comparison\n",
    "    p_corrected: float array\n",
    "        corrected p-values for each pairwise comparison, corresponding to the\n",
    "        null hypothesis that the pair of groups has equal medians. note that\n",
    "        these are only meaningful if the global null hypothesis is rejected.\n",
    "    reject: bool array\n",
    "        True for pairs where the null hypothesis can be rejected for the given\n",
    "        alpha\n",
    "    Reference:\n",
    "    ---------------\n",
    "    Gibbons, J. D., & Chakraborti, S. (2011). Nonparametric Statistical\n",
    "    Inference (5th ed., pp. 353-357). Boca Raton, FL: Chapman & Hall.\n",
    "    \"\"\"\n",
    "\n",
    "    # omnibus test (K-W ANOVA)\n",
    "    # -------------------------------------------------------------------------\n",
    "\n",
    "    groups = [np.array(gg) for gg in groups]\n",
    "\n",
    "    k = len(groups)\n",
    "\n",
    "    n = np.array([len(gg) for gg in groups])\n",
    "    if np.any(n < 5):\n",
    "        warnings.warn(\"Sample sizes < 5 are not recommended (K-W test assumes \"\n",
    "                      \"a chi square distribution)\")\n",
    "\n",
    "    allgroups = np.concatenate(groups)\n",
    "    N = len(allgroups)\n",
    "    ranked = stats.rankdata(allgroups)\n",
    "\n",
    "    # correction factor for ties\n",
    "    T = stats.tiecorrect(ranked)\n",
    "    if T == 0:\n",
    "        raise ValueError('All numbers are identical in kruskal')\n",
    "\n",
    "    # sum of ranks for each group\n",
    "    j = np.insert(np.cumsum(n), 0, 0)\n",
    "    R = np.empty(k, dtype=np.float)\n",
    "    for ii in range(k):\n",
    "        R[ii] = ranked[j[ii]:j[ii + 1]].sum()\n",
    "\n",
    "    # the Kruskal-Wallis H-statistic\n",
    "    H = (12. / (N * (N + 1.))) * ((R ** 2.) / n).sum() - 3 * (N + 1)\n",
    "\n",
    "    # apply correction factor for ties\n",
    "    H /= T\n",
    "\n",
    "    df_omnibus = k - 1\n",
    "    p_omnibus = stats.chi2(H, df_omnibus)\n",
    "\n",
    "    # multiple comparisons\n",
    "    # -------------------------------------------------------------------------\n",
    "\n",
    "    # by default we compare every possible pair of groups\n",
    "    if to_compare is None:\n",
    "        to_compare = tuple(combinations(range(k), 2))\n",
    "\n",
    "    ncomp = len(to_compare)\n",
    "\n",
    "    Z_pairs = np.empty(ncomp, dtype=np.float)\n",
    "    p_uncorrected = np.empty(ncomp, dtype=np.float)\n",
    "    Rmean = R / n\n",
    "\n",
    "    for pp, (ii, jj) in enumerate(to_compare):\n",
    "\n",
    "        # standardized score\n",
    "        Zij = (np.abs(Rmean[ii] - Rmean[jj]) /\n",
    "               np.sqrt((1. / 12.) * N * (N + 1) * (1. / n[ii] + 1. / n[jj])))\n",
    "        Z_pairs[pp] = Zij\n",
    "\n",
    "    # corresponding p-values obtained from upper quantiles of the standard\n",
    "    # normal distribution\n",
    "    p_uncorrected = stats.norm.sf(Z_pairs) * 2.\n",
    "\n",
    "    # correction for multiple comparisons\n",
    "    reject, p_corrected, alphac_sidak, alphac_bonf = multipletests(\n",
    "        p_uncorrected, method=method\n",
    "    )\n",
    "\n",
    "    return H, p_omnibus, Z_pairs, p_corrected, reject"
   ]
  },
  {
   "cell_type": "code",
   "execution_count": 161,
   "metadata": {},
   "outputs": [
    {
     "data": {
      "text/plain": [
       "(15.82368776887143,\n",
       " <scipy.stats._distn_infrastructure.rv_frozen at 0x1c18d10590>,\n",
       " array([2.61950943, 2.06163953, 0.67424221, 0.57111183, 0.86317975,\n",
       "        2.87070134, 2.5557861 , 2.10597841, 2.13551115, 1.13371419]),\n",
       " array([0.08805634, 0.39242068, 1.        , 1.        , 1.        ,\n",
       "        0.04095623, 0.10594822, 0.35206228, 0.3271928 , 1.        ]),\n",
       " array([False, False, False, False, False,  True, False, False, False,\n",
       "        False]))"
      ]
     },
     "execution_count": 161,
     "metadata": {},
     "output_type": "execute_result"
    }
   ],
   "source": [
    "\n",
    "kw_dunn([data2, data3, data4, data5, data6])"
   ]
  },
  {
   "cell_type": "code",
   "execution_count": 162,
   "metadata": {},
   "outputs": [],
   "source": [
    "df_day = df_revenue[(df_revenue['day_of_week'] != 0) & (df_revenue['day_of_week'] != 6)]"
   ]
  },
  {
   "cell_type": "code",
   "execution_count": 164,
   "metadata": {},
   "outputs": [
    {
     "data": {
      "text/plain": [
       "4    83\n",
       "3    69\n",
       "2    55\n",
       "1    22\n",
       "5    10\n",
       "Name: day_of_week, dtype: int64"
      ]
     },
     "execution_count": 164,
     "metadata": {},
     "output_type": "execute_result"
    }
   ],
   "source": [
    "df_day.day_of_week.value_counts()"
   ]
  },
  {
   "cell_type": "code",
   "execution_count": 166,
   "metadata": {},
   "outputs": [
    {
     "name": "stdout",
     "output_type": "stream",
     "text": [
      "                      sum_sq     df         F    PR(>F)\n",
      "C(day_of_week)  5.561034e+17    4.0  2.236405  0.065862\n",
      "Residual        1.454658e+19  234.0       NaN       NaN\n"
     ]
    }
   ],
   "source": [
    "formula = 'revenue ~ C(day_of_week)'\n",
    "lm = ols(formula, df_day).fit()\n",
    "table = sm.stats.anova_lm(lm, typ=2)\n",
    "\n",
    "print(table)"
   ]
  },
  {
   "cell_type": "code",
   "execution_count": 167,
   "metadata": {},
   "outputs": [
    {
     "data": {
      "text/html": [
       "<div>\n",
       "<style scoped>\n",
       "    .dataframe tbody tr th:only-of-type {\n",
       "        vertical-align: middle;\n",
       "    }\n",
       "\n",
       "    .dataframe tbody tr th {\n",
       "        vertical-align: top;\n",
       "    }\n",
       "\n",
       "    .dataframe thead th {\n",
       "        text-align: right;\n",
       "    }\n",
       "</style>\n",
       "<table border=\"1\" class=\"dataframe\">\n",
       "  <thead>\n",
       "    <tr style=\"text-align: right;\">\n",
       "      <th></th>\n",
       "      <th>sum_sq</th>\n",
       "      <th>df</th>\n",
       "      <th>mean_sq</th>\n",
       "      <th>F</th>\n",
       "      <th>PR(&gt;F)</th>\n",
       "      <th>eta_sq</th>\n",
       "      <th>omega_sq</th>\n",
       "    </tr>\n",
       "  </thead>\n",
       "  <tbody>\n",
       "    <tr>\n",
       "      <td>C(day_of_week)</td>\n",
       "      <td>5.561034e+17</td>\n",
       "      <td>4.0</td>\n",
       "      <td>1.390258e+17</td>\n",
       "      <td>2.236405</td>\n",
       "      <td>0.065862</td>\n",
       "      <td>0.036821</td>\n",
       "      <td>0.020273</td>\n",
       "    </tr>\n",
       "    <tr>\n",
       "      <td>Residual</td>\n",
       "      <td>1.454658e+19</td>\n",
       "      <td>234.0</td>\n",
       "      <td>6.216488e+16</td>\n",
       "      <td>NaN</td>\n",
       "      <td>NaN</td>\n",
       "      <td>NaN</td>\n",
       "      <td>NaN</td>\n",
       "    </tr>\n",
       "  </tbody>\n",
       "</table>\n",
       "</div>"
      ],
      "text/plain": [
       "                      sum_sq     df       mean_sq         F    PR(>F)  \\\n",
       "C(day_of_week)  5.561034e+17    4.0  1.390258e+17  2.236405  0.065862   \n",
       "Residual        1.454658e+19  234.0  6.216488e+16       NaN       NaN   \n",
       "\n",
       "                  eta_sq  omega_sq  \n",
       "C(day_of_week)  0.036821  0.020273  \n",
       "Residual             NaN       NaN  "
      ]
     },
     "execution_count": 167,
     "metadata": {},
     "output_type": "execute_result"
    }
   ],
   "source": [
    "anova_table(table)"
   ]
  },
  {
   "cell_type": "code",
   "execution_count": 172,
   "metadata": {},
   "outputs": [],
   "source": [
    "import scikit_posthocs as sp"
   ]
  },
  {
   "cell_type": "code",
   "execution_count": 185,
   "metadata": {},
   "outputs": [
    {
     "data": {
      "text/html": [
       "<div>\n",
       "<style scoped>\n",
       "    .dataframe tbody tr th:only-of-type {\n",
       "        vertical-align: middle;\n",
       "    }\n",
       "\n",
       "    .dataframe tbody tr th {\n",
       "        vertical-align: top;\n",
       "    }\n",
       "\n",
       "    .dataframe thead th {\n",
       "        text-align: right;\n",
       "    }\n",
       "</style>\n",
       "<table border=\"1\" class=\"dataframe\">\n",
       "  <thead>\n",
       "    <tr style=\"text-align: right;\">\n",
       "      <th></th>\n",
       "      <th>1</th>\n",
       "      <th>2</th>\n",
       "      <th>3</th>\n",
       "      <th>4</th>\n",
       "      <th>5</th>\n",
       "    </tr>\n",
       "  </thead>\n",
       "  <tbody>\n",
       "    <tr>\n",
       "      <td>1</td>\n",
       "      <td>-1.000000</td>\n",
       "      <td>0.079220</td>\n",
       "      <td>0.228974</td>\n",
       "      <td>1.000000</td>\n",
       "      <td>1.000000</td>\n",
       "    </tr>\n",
       "    <tr>\n",
       "      <td>2</td>\n",
       "      <td>0.079220</td>\n",
       "      <td>-1.000000</td>\n",
       "      <td>1.000000</td>\n",
       "      <td>0.040938</td>\n",
       "      <td>0.084727</td>\n",
       "    </tr>\n",
       "    <tr>\n",
       "      <td>3</td>\n",
       "      <td>0.228974</td>\n",
       "      <td>1.000000</td>\n",
       "      <td>-1.000000</td>\n",
       "      <td>0.228974</td>\n",
       "      <td>0.228974</td>\n",
       "    </tr>\n",
       "    <tr>\n",
       "      <td>4</td>\n",
       "      <td>1.000000</td>\n",
       "      <td>0.040938</td>\n",
       "      <td>0.228974</td>\n",
       "      <td>-1.000000</td>\n",
       "      <td>1.000000</td>\n",
       "    </tr>\n",
       "    <tr>\n",
       "      <td>5</td>\n",
       "      <td>1.000000</td>\n",
       "      <td>0.084727</td>\n",
       "      <td>0.228974</td>\n",
       "      <td>1.000000</td>\n",
       "      <td>-1.000000</td>\n",
       "    </tr>\n",
       "  </tbody>\n",
       "</table>\n",
       "</div>"
      ],
      "text/plain": [
       "          1         2         3         4         5\n",
       "1 -1.000000  0.079220  0.228974  1.000000  1.000000\n",
       "2  0.079220 -1.000000  1.000000  0.040938  0.084727\n",
       "3  0.228974  1.000000 -1.000000  0.228974  0.228974\n",
       "4  1.000000  0.040938  0.228974 -1.000000  1.000000\n",
       "5  1.000000  0.084727  0.228974  1.000000 -1.000000"
      ]
     },
     "execution_count": 185,
     "metadata": {},
     "output_type": "execute_result"
    }
   ],
   "source": [
    "x=df_revenue['revenue'][df_revenue['day_of_week'] == 2]\n",
    "y=df_revenue['revenue'][df_revenue['day_of_week'] != 2]\n",
    "sp.posthoc_dunn([data2, data3, data4, data5, data6], p_adjust='holm')"
   ]
  },
  {
   "cell_type": "code",
   "execution_count": 186,
   "metadata": {},
   "outputs": [
    {
     "name": "stdout",
     "output_type": "stream",
     "text": [
      "Statistics=4057.500, p=0.001\n",
      "Different distribution (reject H0)\n"
     ]
    }
   ],
   "source": [
    "stat, p = mannwhitneyu(x, y)\n",
    "print('Statistics=%.3f, p=%.3f' % (stat, p))\n",
    "# interpret\n",
    "alpha = 0.05\n",
    "if p > alpha:\n",
    "\tprint('Same distribution (fail to reject H0)')\n",
    "else:\n",
    "\tprint('Different distribution (reject H0)')\n",
    "\n"
   ]
  },
  {
   "cell_type": "code",
   "execution_count": 190,
   "metadata": {},
   "outputs": [
    {
     "data": {
      "text/plain": [
       "Drama|                     21\n",
       "Comedy|                    18\n",
       "Drama|Comedy|              12\n",
       "na|                         6\n",
       "Action|Thriller|Crime|      6\n",
       "Drama|Action|               6\n",
       "Action|Science Fiction|     5\n",
       "Horror|Thriller|            5\n",
       "Drama|Romance|              5\n",
       "Comedy|Romance|             5\n",
       "Drama|Crime|                5\n",
       "Name: genre_ids, dtype: int64"
      ]
     },
     "execution_count": 190,
     "metadata": {},
     "output_type": "execute_result"
    }
   ],
   "source": [
    "df_revenue.genre_ids.value_counts().nlargest(11)"
   ]
  },
  {
   "cell_type": "code",
   "execution_count": 193,
   "metadata": {},
   "outputs": [
    {
     "data": {
      "text/html": [
       "<div>\n",
       "<style scoped>\n",
       "    .dataframe tbody tr th:only-of-type {\n",
       "        vertical-align: middle;\n",
       "    }\n",
       "\n",
       "    .dataframe tbody tr th {\n",
       "        vertical-align: top;\n",
       "    }\n",
       "\n",
       "    .dataframe thead th {\n",
       "        text-align: right;\n",
       "    }\n",
       "</style>\n",
       "<table border=\"1\" class=\"dataframe\">\n",
       "  <thead>\n",
       "    <tr style=\"text-align: right;\">\n",
       "      <th></th>\n",
       "      <th>count</th>\n",
       "      <th>mean</th>\n",
       "      <th>std</th>\n",
       "      <th>min</th>\n",
       "      <th>25%</th>\n",
       "      <th>50%</th>\n",
       "      <th>75%</th>\n",
       "      <th>max</th>\n",
       "    </tr>\n",
       "    <tr>\n",
       "      <th>genre_ids</th>\n",
       "      <th></th>\n",
       "      <th></th>\n",
       "      <th></th>\n",
       "      <th></th>\n",
       "      <th></th>\n",
       "      <th></th>\n",
       "      <th></th>\n",
       "      <th></th>\n",
       "    </tr>\n",
       "  </thead>\n",
       "  <tbody>\n",
       "    <tr>\n",
       "      <td>Drama|</td>\n",
       "      <td>21.0</td>\n",
       "      <td>4.992422e+06</td>\n",
       "      <td>1.180976e+07</td>\n",
       "      <td>10.0</td>\n",
       "      <td>10000.00</td>\n",
       "      <td>282099.0</td>\n",
       "      <td>3500000.0</td>\n",
       "      <td>50000000.0</td>\n",
       "    </tr>\n",
       "    <tr>\n",
       "      <td>Comedy|</td>\n",
       "      <td>18.0</td>\n",
       "      <td>1.039551e+07</td>\n",
       "      <td>1.256961e+07</td>\n",
       "      <td>52.0</td>\n",
       "      <td>10000.00</td>\n",
       "      <td>2000000.0</td>\n",
       "      <td>20500000.0</td>\n",
       "      <td>32000000.0</td>\n",
       "    </tr>\n",
       "    <tr>\n",
       "      <td>Drama|Comedy|</td>\n",
       "      <td>12.0</td>\n",
       "      <td>9.053211e+06</td>\n",
       "      <td>1.075268e+07</td>\n",
       "      <td>10000.0</td>\n",
       "      <td>218617.75</td>\n",
       "      <td>4400000.0</td>\n",
       "      <td>19729654.5</td>\n",
       "      <td>28000000.0</td>\n",
       "    </tr>\n",
       "    <tr>\n",
       "      <td>na|</td>\n",
       "      <td>6.0</td>\n",
       "      <td>8.612500e+03</td>\n",
       "      <td>2.027913e+04</td>\n",
       "      <td>14.0</td>\n",
       "      <td>57.25</td>\n",
       "      <td>313.5</td>\n",
       "      <td>875.0</td>\n",
       "      <td>50000.0</td>\n",
       "    </tr>\n",
       "    <tr>\n",
       "      <td>Drama|Action|</td>\n",
       "      <td>6.0</td>\n",
       "      <td>2.174278e+06</td>\n",
       "      <td>5.303500e+06</td>\n",
       "      <td>4432.0</td>\n",
       "      <td>8848.25</td>\n",
       "      <td>9498.0</td>\n",
       "      <td>12583.0</td>\n",
       "      <td>13000000.0</td>\n",
       "    </tr>\n",
       "    <tr>\n",
       "      <td>...</td>\n",
       "      <td>...</td>\n",
       "      <td>...</td>\n",
       "      <td>...</td>\n",
       "      <td>...</td>\n",
       "      <td>...</td>\n",
       "      <td>...</td>\n",
       "      <td>...</td>\n",
       "      <td>...</td>\n",
       "    </tr>\n",
       "    <tr>\n",
       "      <td>Adventure|Action|War|</td>\n",
       "      <td>1.0</td>\n",
       "      <td>2.179800e+06</td>\n",
       "      <td>NaN</td>\n",
       "      <td>2179800.0</td>\n",
       "      <td>2179800.00</td>\n",
       "      <td>2179800.0</td>\n",
       "      <td>2179800.0</td>\n",
       "      <td>2179800.0</td>\n",
       "    </tr>\n",
       "    <tr>\n",
       "      <td>Drama|Action|Science Fiction|</td>\n",
       "      <td>1.0</td>\n",
       "      <td>1.000000e+00</td>\n",
       "      <td>NaN</td>\n",
       "      <td>1.0</td>\n",
       "      <td>1.00</td>\n",
       "      <td>1.0</td>\n",
       "      <td>1.0</td>\n",
       "      <td>1.0</td>\n",
       "    </tr>\n",
       "    <tr>\n",
       "      <td>Drama|Action|Crime|</td>\n",
       "      <td>1.0</td>\n",
       "      <td>5.000000e+04</td>\n",
       "      <td>NaN</td>\n",
       "      <td>50000.0</td>\n",
       "      <td>50000.00</td>\n",
       "      <td>50000.0</td>\n",
       "      <td>50000.0</td>\n",
       "      <td>50000.0</td>\n",
       "    </tr>\n",
       "    <tr>\n",
       "      <td>Drama|Action|Comedy|Crime|</td>\n",
       "      <td>1.0</td>\n",
       "      <td>1.500000e+06</td>\n",
       "      <td>NaN</td>\n",
       "      <td>1500000.0</td>\n",
       "      <td>1500000.00</td>\n",
       "      <td>1500000.0</td>\n",
       "      <td>1500000.0</td>\n",
       "      <td>1500000.0</td>\n",
       "    </tr>\n",
       "    <tr>\n",
       "      <td>Drama|History|Music|Romance|War|</td>\n",
       "      <td>1.0</td>\n",
       "      <td>3.100000e+07</td>\n",
       "      <td>NaN</td>\n",
       "      <td>31000000.0</td>\n",
       "      <td>31000000.00</td>\n",
       "      <td>31000000.0</td>\n",
       "      <td>31000000.0</td>\n",
       "      <td>31000000.0</td>\n",
       "    </tr>\n",
       "  </tbody>\n",
       "</table>\n",
       "<p>126 rows × 8 columns</p>\n",
       "</div>"
      ],
      "text/plain": [
       "                                  count          mean           std  \\\n",
       "genre_ids                                                             \n",
       "Drama|                             21.0  4.992422e+06  1.180976e+07   \n",
       "Comedy|                            18.0  1.039551e+07  1.256961e+07   \n",
       "Drama|Comedy|                      12.0  9.053211e+06  1.075268e+07   \n",
       "na|                                 6.0  8.612500e+03  2.027913e+04   \n",
       "Drama|Action|                       6.0  2.174278e+06  5.303500e+06   \n",
       "...                                 ...           ...           ...   \n",
       "Adventure|Action|War|               1.0  2.179800e+06           NaN   \n",
       "Drama|Action|Science Fiction|       1.0  1.000000e+00           NaN   \n",
       "Drama|Action|Crime|                 1.0  5.000000e+04           NaN   \n",
       "Drama|Action|Comedy|Crime|          1.0  1.500000e+06           NaN   \n",
       "Drama|History|Music|Romance|War|    1.0  3.100000e+07           NaN   \n",
       "\n",
       "                                         min          25%         50%  \\\n",
       "genre_ids                                                               \n",
       "Drama|                                  10.0     10000.00    282099.0   \n",
       "Comedy|                                 52.0     10000.00   2000000.0   \n",
       "Drama|Comedy|                        10000.0    218617.75   4400000.0   \n",
       "na|                                     14.0        57.25       313.5   \n",
       "Drama|Action|                         4432.0      8848.25      9498.0   \n",
       "...                                      ...          ...         ...   \n",
       "Adventure|Action|War|              2179800.0   2179800.00   2179800.0   \n",
       "Drama|Action|Science Fiction|            1.0         1.00         1.0   \n",
       "Drama|Action|Crime|                  50000.0     50000.00     50000.0   \n",
       "Drama|Action|Comedy|Crime|         1500000.0   1500000.00   1500000.0   \n",
       "Drama|History|Music|Romance|War|  31000000.0  31000000.00  31000000.0   \n",
       "\n",
       "                                         75%         max  \n",
       "genre_ids                                                 \n",
       "Drama|                             3500000.0  50000000.0  \n",
       "Comedy|                           20500000.0  32000000.0  \n",
       "Drama|Comedy|                     19729654.5  28000000.0  \n",
       "na|                                    875.0     50000.0  \n",
       "Drama|Action|                        12583.0  13000000.0  \n",
       "...                                      ...         ...  \n",
       "Adventure|Action|War|              2179800.0   2179800.0  \n",
       "Drama|Action|Science Fiction|            1.0         1.0  \n",
       "Drama|Action|Crime|                  50000.0     50000.0  \n",
       "Drama|Action|Comedy|Crime|         1500000.0   1500000.0  \n",
       "Drama|History|Music|Romance|War|  31000000.0  31000000.0  \n",
       "\n",
       "[126 rows x 8 columns]"
      ]
     },
     "execution_count": 193,
     "metadata": {},
     "output_type": "execute_result"
    }
   ],
   "source": [
    "df_revenue.groupby('genre_ids')['budget'].describe().sort_values(by='count', ascending=False)"
   ]
  },
  {
   "cell_type": "code",
   "execution_count": 209,
   "metadata": {},
   "outputs": [
    {
     "data": {
      "text/plain": [
       "<matplotlib.axes._subplots.AxesSubplot at 0x1c1f12bf90>"
      ]
     },
     "execution_count": 209,
     "metadata": {},
     "output_type": "execute_result"
    },
    {
     "data": {
      "image/png": "[encoded data removed]",
      "text/plain": [
       "<Figure size 432x288 with 1 Axes>"
      ]
     },
     "metadata": {
      "needs_background": "light"
     },
     "output_type": "display_data"
    }
   ],
   "source": [
    "ser = df_revenue.set_index('release_date')\n",
    "df_revenue['revenue'].hist(cumulative=True, density=1, bins=100)"
   ]
  },
  {
   "cell_type": "code",
   "execution_count": 217,
   "metadata": {},
   "outputs": [
    {
     "data": {
      "text/plain": [
       "<matplotlib.axes._subplots.AxesSubplot at 0x1c1f858250>"
      ]
     },
     "execution_count": 217,
     "metadata": {},
     "output_type": "execute_result"
    },
    {
     "data": {
      "image/png": "[encoded data removed]",
      "text/plain": [
       "<Figure size 432x288 with 1 Axes>"
      ]
     },
     "metadata": {
      "needs_background": "light"
     },
     "output_type": "display_data"
    }
   ],
   "source": [
    "ser['revenue'].sort_index().cumsum().plot()"
   ]
  },
  {
   "cell_type": "code",
   "execution_count": 218,
   "metadata": {},
   "outputs": [
    {
     "data": {
      "image/png": "[encoded data removed]",
      "text/plain": [
       "<Figure size 576x576 with 1 Axes>"
      ]
     },
     "metadata": {
      "needs_background": "light"
     },
     "output_type": "display_data"
    }
   ],
   "source": [
    "f, ax = plt.subplots(figsize=(8, 8))\n",
    "ax = sns.kdeplot(ser['revenue'], cumulative=True)"
   ]
  },
  {
   "cell_type": "code",
   "execution_count": 226,
   "metadata": {},
   "outputs": [],
   "source": [
    "df_quarter1 = df_revenue[df_revenue['quarter'] == 1]\n",
    "df_quarter2 = df_revenue[df_revenue['quarter'] == 2]\n",
    "df_quarter3 = df_revenue[df_revenue['quarter'] == 3]\n",
    "df_quarter4 = df_revenue[df_revenue['quarter'] == 4]"
   ]
  },
  {
   "cell_type": "code",
   "execution_count": 223,
   "metadata": {},
   "outputs": [
    {
     "data": {
      "text/plain": [
       "<matplotlib.axes._subplots.AxesSubplot at 0x1c1fa07590>"
      ]
     },
     "execution_count": 223,
     "metadata": {},
     "output_type": "execute_result"
    },
    {
     "data": {
      "image/png": "[encoded data removed]",
      "text/plain": [
       "<Figure size 1080x576 with 1 Axes>"
      ]
     },
     "metadata": {
      "needs_background": "light"
     },
     "output_type": "display_data"
    }
   ],
   "source": [
    "plt.figure(figsize=(15,8))\n",
    "plt.ylim(top=500000000)\n",
    "plt.ticklabel_format(style='plain')\n",
    "sns.boxplot(x=\"day_of_week\", y=\"revenue\", data=df_quarter1)"
   ]
  },
  {
   "cell_type": "code",
   "execution_count": 230,
   "metadata": {},
   "outputs": [
    {
     "data": {
      "text/plain": [
       "(0.4457833170890808, 1.5465218607010845e-15)"
      ]
     },
     "execution_count": 230,
     "metadata": {},
     "output_type": "execute_result"
    },
    {
     "data": {
      "image/png": "[encoded data removed]",
      "text/plain": [
       "<Figure size 432x288 with 1 Axes>"
      ]
     },
     "metadata": {
      "needs_background": "light"
     },
     "output_type": "display_data"
    }
   ],
   "source": [
    "stats.shapiro(df_quarter1['revenue'])\n",
    "sns.distplot(df_quarter1['revenue'])\n",
    "stats.shapiro(df_quarter1['revenue'])"
   ]
  },
  {
   "cell_type": "code",
   "execution_count": 229,
   "metadata": {},
   "outputs": [
    {
     "data": {
      "image/png": "[encoded data removed]",
      "text/plain": [
       "<Figure size 432x288 with 1 Axes>"
      ]
     },
     "metadata": {
      "needs_background": "light"
     },
     "output_type": "display_data"
    },
    {
     "data": {
      "image/png": "[encoded data removed]",
      "text/plain": [
       "<Figure size 432x288 with 1 Axes>"
      ]
     },
     "metadata": {
      "needs_background": "light"
     },
     "output_type": "display_data"
    },
    {
     "data": {
      "image/png": "[encoded data removed]",
      "text/plain": [
       "<Figure size 432x288 with 1 Axes>"
      ]
     },
     "metadata": {
      "needs_background": "light"
     },
     "output_type": "display_data"
    },
    {
     "data": {
      "image/png": "[encoded data removed]",
      "text/plain": [
       "<Figure size 432x288 with 1 Axes>"
      ]
     },
     "metadata": {
      "needs_background": "light"
     },
     "output_type": "display_data"
    }
   ],
   "source": [
    "sm.qqplot(df_quarter1['revenue'])\n",
    "sm.qqplot(df_quarter2['revenue'])\n",
    "sm.qqplot(df_quarter3['revenue'])\n",
    "sm.qqplot(df_quarter4['revenue'])\n",
    "pylab.show()"
   ]
  },
  {
   "cell_type": "code",
   "execution_count": null,
   "metadata": {},
   "outputs": [],
   "source": []
  }
 ],
 "metadata": {
  "kernelspec": {
   "display_name": "Python 3",
   "language": "python",
   "name": "python3"
  },
  "language_info": {
   "codemirror_mode": {
    "name": "ipython",
    "version": 3
   },
   "file_extension": ".py",
   "mimetype": "text/x-python",
   "name": "python",
   "nbconvert_exporter": "python",
   "pygments_lexer": "ipython3",
   "version": "3.7.4"
  }
 },
 "nbformat": 4,
 "nbformat_minor": 2
}
